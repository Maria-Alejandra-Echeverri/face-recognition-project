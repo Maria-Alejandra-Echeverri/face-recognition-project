{
  "cells": [
    {
      "cell_type": "code",
      "execution_count": 1,
      "id": "dedicated-bonus",
      "metadata": {
        "colab": {
          "base_uri": "https://localhost:8080/"
        },
        "id": "dedicated-bonus",
        "outputId": "956cc8c5-0bc1-4068-b8f3-f0afbb012be1"
      },
      "outputs": [
        {
          "output_type": "stream",
          "name": "stderr",
          "text": [
            "<ipython-input-1-d92b30bbeee9>:9: MatplotlibDeprecationWarning: The seaborn styles shipped by Matplotlib are deprecated since 3.6, as they no longer correspond to the styles shipped by seaborn. However, they will remain available as 'seaborn-v0_8-<style>'. Alternatively, directly use the seaborn API instead.\n",
            "  mpl.style.use(\"seaborn-darkgrid\")\n"
          ]
        }
      ],
      "source": [
        "import numpy as np\n",
        "import pandas as pd\n",
        "import tensorflow as tf\n",
        "import os\n",
        "import cv2\n",
        "import matplotlib.pyplot as plt\n",
        "import matplotlib as mpl\n",
        "\n",
        "mpl.style.use(\"seaborn-darkgrid\")"
      ]
    },
    {
      "cell_type": "code",
      "execution_count": 2,
      "id": "SKq4-R2ir-xF",
      "metadata": {
        "colab": {
          "base_uri": "https://localhost:8080/"
        },
        "id": "SKq4-R2ir-xF",
        "outputId": "fc814482-4b5a-4bf3-9961-a0491d7218c5"
      },
      "outputs": [
        {
          "output_type": "stream",
          "name": "stdout",
          "text": [
            "Mounted at /content/drive\n"
          ]
        }
      ],
      "source": [
        "from google.colab import drive\n",
        "drive.mount('/content/drive')"
      ]
    },
    {
      "cell_type": "code",
      "execution_count": 3,
      "id": "aging-flight",
      "metadata": {
        "id": "aging-flight"
      },
      "outputs": [],
      "source": [
        "from tqdm import tqdm"
      ]
    },
    {
      "cell_type": "code",
      "execution_count": 4,
      "id": "champion-restaurant",
      "metadata": {
        "colab": {
          "base_uri": "https://localhost:8080/"
        },
        "id": "champion-restaurant",
        "outputId": "4ff0ccc2-23cc-4662-a3f0-dd0a8a5b1bf5"
      },
      "outputs": [
        {
          "output_type": "execute_result",
          "data": {
            "text/plain": [
              "['Aleja',\n",
              " 'Dayana',\n",
              " 'AlejaS',\n",
              " 'fabian',\n",
              " 'profe',\n",
              " 'jorge',\n",
              " 'NoIdentificado',\n",
              " 'jeronimo']"
            ]
          },
          "metadata": {},
          "execution_count": 4
        }
      ],
      "source": [
        "files=os.listdir(\"/content/drive/MyDrive/db_photos\")\n",
        "files"
      ]
    },
    {
      "cell_type": "code",
      "execution_count": 5,
      "id": "fYt1YqHBFF5t",
      "metadata": {
        "colab": {
          "base_uri": "https://localhost:8080/"
        },
        "id": "fYt1YqHBFF5t",
        "outputId": "533edac6-064b-4862-a23b-cbde92acc8e5"
      },
      "outputs": [
        {
          "output_type": "stream",
          "name": "stderr",
          "text": [
            "100%|██████████| 100/100 [00:08<00:00, 11.94it/s]\n",
            "100%|██████████| 99/99 [01:17<00:00,  1.28it/s]\n",
            "100%|██████████| 100/100 [00:07<00:00, 13.43it/s]\n",
            "100%|██████████| 104/104 [00:05<00:00, 19.53it/s]\n",
            "100%|██████████| 70/70 [00:40<00:00,  1.75it/s]\n",
            "100%|██████████| 99/99 [00:56<00:00,  1.74it/s]\n",
            "100%|██████████| 94/94 [00:41<00:00,  2.29it/s]\n",
            "100%|██████████| 66/66 [00:22<00:00,  2.95it/s]"
          ]
        },
        {
          "output_type": "stream",
          "name": "stdout",
          "text": [
            "Subcarpeta: Aleja, Índice: 0\n",
            "Subcarpeta: Dayana, Índice: 1\n",
            "Subcarpeta: AlejaS, Índice: 2\n",
            "Subcarpeta: fabian, Índice: 3\n",
            "Subcarpeta: profe, Índice: 4\n",
            "Subcarpeta: jorge, Índice: 5\n",
            "Subcarpeta: NoIdentificado, Índice: 6\n",
            "Subcarpeta: jeronimo, Índice: 7\n"
          ]
        },
        {
          "output_type": "stream",
          "name": "stderr",
          "text": [
            "\n"
          ]
        }
      ],
      "source": [
        "image_array = []\n",
        "label_array = []\n",
        "path = \"/content/drive/MyDrive/db_photos/\"\n",
        "\n",
        "# Diccionario para almacenar la asignación de subcarpetas a índices\n",
        "subfolder_indices = {}\n",
        "\n",
        "# loop through each sub-folder in train\n",
        "for i in range(len(files)):\n",
        "    # Guardar el nombre de la subcarpeta con su índice\n",
        "    subfolder_indices[files[i]] = i\n",
        "\n",
        "    # files in sub-folder\n",
        "    file_sub = os.listdir(path + files[i])\n",
        "\n",
        "    for k in tqdm(range(len(file_sub))):\n",
        "        try:\n",
        "            img = cv2.imread(path + files[i] + \"/\" + file_sub[k])\n",
        "            img = cv2.cvtColor(img, cv2.COLOR_BGR2RGB)\n",
        "            img = cv2.resize(img, (96, 96))\n",
        "            image_array.append(img)\n",
        "            label_array.append(i)\n",
        "        except:\n",
        "            pass\n",
        "\n",
        "# Mostrar las asignaciones de subcarpetas a índices\n",
        "for subfolder, index in subfolder_indices.items():\n",
        "    print(f\"Subcarpeta: {subfolder}, Índice: {index}\")\n"
      ]
    },
    {
      "cell_type": "code",
      "execution_count": 6,
      "id": "geological-jurisdiction",
      "metadata": {
        "colab": {
          "base_uri": "https://localhost:8080/"
        },
        "id": "geological-jurisdiction",
        "outputId": "bf16f644-d49e-4c6e-c2ec-7f847d81c3ff"
      },
      "outputs": [
        {
          "output_type": "execute_result",
          "data": {
            "text/plain": [
              "43"
            ]
          },
          "metadata": {},
          "execution_count": 6
        }
      ],
      "source": [
        "import gc\n",
        "gc.collect()"
      ]
    },
    {
      "cell_type": "code",
      "execution_count": 7,
      "id": "civic-acting",
      "metadata": {
        "id": "civic-acting"
      },
      "outputs": [],
      "source": [
        "image_array=np.array(image_array)/255.0\n",
        "label_array=np.array(label_array)"
      ]
    },
    {
      "cell_type": "code",
      "execution_count": 8,
      "id": "previous-inspiration",
      "metadata": {
        "id": "previous-inspiration"
      },
      "outputs": [],
      "source": [
        "from sklearn.model_selection import train_test_split\n",
        "X_train,X_test,Y_train,Y_test=train_test_split(image_array,label_array,test_size=0.20, random_state=0)"
      ]
    },
    {
      "cell_type": "code",
      "execution_count": 9,
      "id": "million-latex",
      "metadata": {
        "id": "million-latex"
      },
      "outputs": [],
      "source": [
        "from keras import layers,callbacks,utils,applications,optimizers\n",
        "from keras.models import Sequential,Model,load_model"
      ]
    },
    {
      "cell_type": "code",
      "execution_count": 10,
      "id": "polished-scroll",
      "metadata": {
        "colab": {
          "base_uri": "https://localhost:8080/"
        },
        "id": "polished-scroll",
        "outputId": "3999ac86-95c7-44c1-c03e-f6cf7d170210"
      },
      "outputs": [
        {
          "output_type": "execute_result",
          "data": {
            "text/plain": [
              "8"
            ]
          },
          "metadata": {},
          "execution_count": 10
        }
      ],
      "source": [
        "len(files) #8 personas"
      ]
    },
    {
      "cell_type": "code",
      "execution_count": 11,
      "id": "frank-australian",
      "metadata": {
        "colab": {
          "base_uri": "https://localhost:8080/"
        },
        "id": "frank-australian",
        "outputId": "648aa4c5-4f87-48de-f90a-a84e6c6eb6fd"
      },
      "outputs": [
        {
          "output_type": "stream",
          "name": "stdout",
          "text": [
            "Downloading data from https://storage.googleapis.com/keras-applications/efficientnetb0_notop.h5\n",
            "16705208/16705208 [==============================] - 0s 0us/step\n",
            "Model: \"sequential\"\n",
            "_________________________________________________________________\n",
            " Layer (type)                Output Shape              Param #   \n",
            "=================================================================\n",
            " efficientnetb0 (Functional  (None, 3, 3, 1280)        4049571   \n",
            " )                                                               \n",
            "                                                                 \n",
            " global_average_pooling2d (  (None, 1280)              0         \n",
            " GlobalAveragePooling2D)                                         \n",
            "                                                                 \n",
            " dropout (Dropout)           (None, 1280)              0         \n",
            "                                                                 \n",
            " dense (Dense)               (None, 1)                 1281      \n",
            "                                                                 \n",
            "=================================================================\n",
            "Total params: 4050852 (15.45 MB)\n",
            "Trainable params: 4008829 (15.29 MB)\n",
            "Non-trainable params: 42023 (164.16 KB)\n",
            "_________________________________________________________________\n"
          ]
        }
      ],
      "source": [
        "model=Sequential()\n",
        "# I will use MobileNetV2 as an pretrained model\n",
        "pretrained_model=tf.keras.applications.EfficientNetB0(input_shape=(96,96,3),include_top=False,\n",
        "                                         weights=\"imagenet\")\n",
        "model.add(pretrained_model)\n",
        "model.add(layers.GlobalAveragePooling2D())\n",
        "# add dropout to increase accuracy by not overfitting\n",
        "model.add(layers.Dropout(0.20))\n",
        "# add dense layer as final output\n",
        "model.add(layers.Dense(1))\n",
        "model.summary()"
      ]
    },
    {
      "cell_type": "code",
      "execution_count": 12,
      "id": "answering-crack",
      "metadata": {
        "id": "answering-crack"
      },
      "outputs": [],
      "source": [
        "model.compile(optimizer=\"adam\",loss=\"mean_squared_error\",metrics=[\"mae\"])"
      ]
    },
    {
      "cell_type": "code",
      "execution_count": 13,
      "id": "loving-notification",
      "metadata": {
        "id": "loving-notification"
      },
      "outputs": [],
      "source": [
        "# creating a chechpoint to save model at best accuarcy\n",
        "\n",
        "ckp_path=\"trained_model/model\"\n",
        "model_checkpoint=tf.keras.callbacks.ModelCheckpoint(filepath=ckp_path,\n",
        "                                                   monitor=\"val_mae\",\n",
        "                                                   mode=\"auto\",\n",
        "                                                   save_best_only=True,\n",
        "                                                   save_weights_only=True)"
      ]
    },
    {
      "cell_type": "code",
      "execution_count": 14,
      "id": "tamil-england",
      "metadata": {
        "id": "tamil-england"
      },
      "outputs": [],
      "source": [
        "# create a lr reducer which decrease learning rate when accuarcy does not increase\n",
        "reduce_lr=tf.keras.callbacks.ReduceLROnPlateau(factor=0.9,monitor=\"val_mae\",\n",
        "                                             mode=\"auto\",cooldown=0,\n",
        "                                             patience=5,verbose=1,min_lr=1e-6)\n",
        "# patience : wait till 5 epoch\n",
        "# verbose : show accuracy every 1 epoch\n",
        "# min_lr=minimum learning rate\n",
        "#"
      ]
    },
    {
      "cell_type": "code",
      "execution_count": 15,
      "id": "convertible-marina",
      "metadata": {
        "colab": {
          "base_uri": "https://localhost:8080/"
        },
        "id": "convertible-marina",
        "outputId": "1b0f6c6b-f3fb-4592-ca3f-20d133e0ab5d"
      },
      "outputs": [
        {
          "output_type": "stream",
          "name": "stdout",
          "text": [
            "Epoch 1/200\n",
            "19/19 [==============================] - 47s 338ms/step - loss: 6.4642 - mae: 1.9474 - val_loss: 28.6472 - val_mae: 4.8746 - lr: 0.0010\n",
            "Epoch 2/200\n",
            "19/19 [==============================] - 2s 107ms/step - loss: 2.2472 - mae: 1.1548 - val_loss: 18.8453 - val_mae: 3.7375 - lr: 0.0010\n",
            "Epoch 3/200\n",
            "19/19 [==============================] - 2s 114ms/step - loss: 1.8614 - mae: 1.0318 - val_loss: 15.2503 - val_mae: 3.2549 - lr: 0.0010\n",
            "Epoch 4/200\n",
            "19/19 [==============================] - 3s 142ms/step - loss: 1.3160 - mae: 0.8637 - val_loss: 11.8138 - val_mae: 2.8276 - lr: 0.0010\n",
            "Epoch 5/200\n",
            "19/19 [==============================] - 1s 74ms/step - loss: 0.8985 - mae: 0.6993 - val_loss: 12.3737 - val_mae: 2.9034 - lr: 0.0010\n",
            "Epoch 6/200\n",
            "19/19 [==============================] - 2s 104ms/step - loss: 0.6991 - mae: 0.6357 - val_loss: 11.3177 - val_mae: 2.7594 - lr: 0.0010\n",
            "Epoch 7/200\n",
            "19/19 [==============================] - 2s 105ms/step - loss: 0.6744 - mae: 0.6166 - val_loss: 9.5516 - val_mae: 2.5290 - lr: 0.0010\n",
            "Epoch 8/200\n",
            "19/19 [==============================] - 1s 64ms/step - loss: 0.4708 - mae: 0.5125 - val_loss: 10.2980 - val_mae: 2.6216 - lr: 0.0010\n",
            "Epoch 9/200\n",
            "19/19 [==============================] - 2s 104ms/step - loss: 0.4596 - mae: 0.5024 - val_loss: 7.8406 - val_mae: 2.2911 - lr: 0.0010\n",
            "Epoch 10/200\n",
            "19/19 [==============================] - 2s 105ms/step - loss: 0.4024 - mae: 0.4864 - val_loss: 6.7704 - val_mae: 2.1355 - lr: 0.0010\n",
            "Epoch 11/200\n",
            "19/19 [==============================] - 2s 81ms/step - loss: 0.3440 - mae: 0.4477 - val_loss: 6.9487 - val_mae: 2.1586 - lr: 0.0010\n",
            "Epoch 12/200\n",
            "19/19 [==============================] - 2s 84ms/step - loss: 0.2595 - mae: 0.4007 - val_loss: 7.5028 - val_mae: 2.2557 - lr: 0.0010\n",
            "Epoch 13/200\n",
            "19/19 [==============================] - 2s 117ms/step - loss: 0.1959 - mae: 0.3412 - val_loss: 6.2853 - val_mae: 2.1133 - lr: 0.0010\n",
            "Epoch 14/200\n",
            "19/19 [==============================] - 2s 102ms/step - loss: 0.1862 - mae: 0.3310 - val_loss: 5.9675 - val_mae: 2.0744 - lr: 0.0010\n",
            "Epoch 15/200\n",
            "19/19 [==============================] - 2s 109ms/step - loss: 0.2791 - mae: 0.3942 - val_loss: 4.7812 - val_mae: 1.9164 - lr: 0.0010\n",
            "Epoch 16/200\n",
            "19/19 [==============================] - 1s 69ms/step - loss: 0.1969 - mae: 0.3424 - val_loss: 6.4700 - val_mae: 2.1184 - lr: 0.0010\n",
            "Epoch 17/200\n",
            "19/19 [==============================] - 1s 65ms/step - loss: 0.1900 - mae: 0.3242 - val_loss: 6.6363 - val_mae: 2.1102 - lr: 0.0010\n",
            "Epoch 18/200\n",
            "19/19 [==============================] - 1s 68ms/step - loss: 0.2868 - mae: 0.4024 - val_loss: 7.7898 - val_mae: 2.3456 - lr: 0.0010\n",
            "Epoch 19/200\n",
            "19/19 [==============================] - 1s 70ms/step - loss: 0.2784 - mae: 0.3946 - val_loss: 7.1402 - val_mae: 2.2389 - lr: 0.0010\n",
            "Epoch 20/200\n",
            "19/19 [==============================] - ETA: 0s - loss: 0.2585 - mae: 0.3767\n",
            "Epoch 20: ReduceLROnPlateau reducing learning rate to 0.0009000000427477062.\n",
            "19/19 [==============================] - 1s 78ms/step - loss: 0.2585 - mae: 0.3767 - val_loss: 6.1471 - val_mae: 2.1247 - lr: 0.0010\n",
            "Epoch 21/200\n",
            "19/19 [==============================] - 2s 90ms/step - loss: 0.1781 - mae: 0.3125 - val_loss: 5.3453 - val_mae: 2.0027 - lr: 9.0000e-04\n",
            "Epoch 22/200\n",
            "19/19 [==============================] - 1s 71ms/step - loss: 0.1551 - mae: 0.2982 - val_loss: 5.3879 - val_mae: 2.0282 - lr: 9.0000e-04\n",
            "Epoch 23/200\n",
            "19/19 [==============================] - 2s 86ms/step - loss: 0.1551 - mae: 0.3050 - val_loss: 5.7004 - val_mae: 2.0440 - lr: 9.0000e-04\n",
            "Epoch 24/200\n",
            "19/19 [==============================] - 2s 104ms/step - loss: 0.1111 - mae: 0.2593 - val_loss: 4.1091 - val_mae: 1.7902 - lr: 9.0000e-04\n",
            "Epoch 25/200\n",
            "19/19 [==============================] - 2s 106ms/step - loss: 0.1218 - mae: 0.2654 - val_loss: 3.5086 - val_mae: 1.6130 - lr: 9.0000e-04\n",
            "Epoch 26/200\n",
            "19/19 [==============================] - 2s 103ms/step - loss: 0.1030 - mae: 0.2517 - val_loss: 2.7597 - val_mae: 1.3647 - lr: 9.0000e-04\n",
            "Epoch 27/200\n",
            "19/19 [==============================] - 2s 120ms/step - loss: 0.0759 - mae: 0.2146 - val_loss: 2.6709 - val_mae: 1.3069 - lr: 9.0000e-04\n",
            "Epoch 28/200\n",
            "19/19 [==============================] - 2s 86ms/step - loss: 0.0824 - mae: 0.2266 - val_loss: 2.9296 - val_mae: 1.3847 - lr: 9.0000e-04\n",
            "Epoch 29/200\n",
            "19/19 [==============================] - 2s 86ms/step - loss: 0.1187 - mae: 0.2605 - val_loss: 2.9393 - val_mae: 1.3153 - lr: 9.0000e-04\n",
            "Epoch 30/200\n",
            "19/19 [==============================] - 2s 107ms/step - loss: 0.0960 - mae: 0.2412 - val_loss: 1.9320 - val_mae: 1.0082 - lr: 9.0000e-04\n",
            "Epoch 31/200\n",
            "19/19 [==============================] - 1s 68ms/step - loss: 0.0866 - mae: 0.2267 - val_loss: 2.4514 - val_mae: 1.2655 - lr: 9.0000e-04\n",
            "Epoch 32/200\n",
            "19/19 [==============================] - 1s 64ms/step - loss: 0.0988 - mae: 0.2365 - val_loss: 4.9953 - val_mae: 1.9273 - lr: 9.0000e-04\n",
            "Epoch 33/200\n",
            "19/19 [==============================] - 1s 65ms/step - loss: 0.0847 - mae: 0.2240 - val_loss: 4.5442 - val_mae: 1.8414 - lr: 9.0000e-04\n",
            "Epoch 34/200\n",
            "19/19 [==============================] - 1s 64ms/step - loss: 0.0773 - mae: 0.2156 - val_loss: 2.7364 - val_mae: 1.3173 - lr: 9.0000e-04\n",
            "Epoch 35/200\n",
            "18/19 [===========================>..] - ETA: 0s - loss: 0.0781 - mae: 0.2192\n",
            "Epoch 35: ReduceLROnPlateau reducing learning rate to 0.0008100000384729356.\n",
            "19/19 [==============================] - 1s 65ms/step - loss: 0.0774 - mae: 0.2180 - val_loss: 2.1836 - val_mae: 1.0963 - lr: 9.0000e-04\n",
            "Epoch 36/200\n",
            "19/19 [==============================] - 1s 65ms/step - loss: 0.0658 - mae: 0.2011 - val_loss: 4.4948 - val_mae: 1.7677 - lr: 8.1000e-04\n",
            "Epoch 37/200\n",
            "19/19 [==============================] - 1s 77ms/step - loss: 0.0708 - mae: 0.2051 - val_loss: 2.9167 - val_mae: 1.3692 - lr: 8.1000e-04\n",
            "Epoch 38/200\n",
            "19/19 [==============================] - 2s 86ms/step - loss: 0.0849 - mae: 0.2258 - val_loss: 2.5263 - val_mae: 1.2103 - lr: 8.1000e-04\n",
            "Epoch 39/200\n",
            "19/19 [==============================] - 2s 81ms/step - loss: 0.0773 - mae: 0.2024 - val_loss: 2.1151 - val_mae: 1.0807 - lr: 8.1000e-04\n",
            "Epoch 40/200\n",
            "18/19 [===========================>..] - ETA: 0s - loss: 0.1102 - mae: 0.2436\n",
            "Epoch 40: ReduceLROnPlateau reducing learning rate to 0.0007290000503417104.\n",
            "19/19 [==============================] - 1s 69ms/step - loss: 0.1096 - mae: 0.2437 - val_loss: 5.5277 - val_mae: 1.9302 - lr: 8.1000e-04\n",
            "Epoch 41/200\n",
            "19/19 [==============================] - 1s 70ms/step - loss: 0.0890 - mae: 0.2298 - val_loss: 6.3982 - val_mae: 2.0440 - lr: 7.2900e-04\n",
            "Epoch 42/200\n",
            "19/19 [==============================] - 1s 65ms/step - loss: 0.0806 - mae: 0.2228 - val_loss: 7.3838 - val_mae: 2.2138 - lr: 7.2900e-04\n",
            "Epoch 43/200\n",
            "19/19 [==============================] - 1s 66ms/step - loss: 0.0992 - mae: 0.2155 - val_loss: 5.6652 - val_mae: 1.9276 - lr: 7.2900e-04\n",
            "Epoch 44/200\n",
            "19/19 [==============================] - 1s 70ms/step - loss: 0.1750 - mae: 0.3141 - val_loss: 5.9930 - val_mae: 1.9916 - lr: 7.2900e-04\n",
            "Epoch 45/200\n",
            "18/19 [===========================>..] - ETA: 0s - loss: 0.1691 - mae: 0.2951\n",
            "Epoch 45: ReduceLROnPlateau reducing learning rate to 0.0006561000715009868.\n",
            "19/19 [==============================] - 1s 68ms/step - loss: 0.1673 - mae: 0.2936 - val_loss: 5.7715 - val_mae: 1.9650 - lr: 7.2900e-04\n",
            "Epoch 46/200\n",
            "19/19 [==============================] - 1s 68ms/step - loss: 0.1165 - mae: 0.2507 - val_loss: 6.6502 - val_mae: 2.0893 - lr: 6.5610e-04\n",
            "Epoch 47/200\n",
            "19/19 [==============================] - 1s 76ms/step - loss: 0.0822 - mae: 0.2237 - val_loss: 6.4521 - val_mae: 2.0732 - lr: 6.5610e-04\n",
            "Epoch 48/200\n",
            "19/19 [==============================] - 2s 83ms/step - loss: 0.0886 - mae: 0.2216 - val_loss: 6.1099 - val_mae: 2.0358 - lr: 6.5610e-04\n",
            "Epoch 49/200\n",
            "19/19 [==============================] - 2s 80ms/step - loss: 0.2496 - mae: 0.3183 - val_loss: 7.9298 - val_mae: 2.2844 - lr: 6.5610e-04\n",
            "Epoch 50/200\n",
            "19/19 [==============================] - ETA: 0s - loss: 0.2023 - mae: 0.3315\n",
            "Epoch 50: ReduceLROnPlateau reducing learning rate to 0.0005904900433961303.\n",
            "19/19 [==============================] - 1s 66ms/step - loss: 0.2023 - mae: 0.3315 - val_loss: 5.3022 - val_mae: 2.0612 - lr: 6.5610e-04\n",
            "Epoch 51/200\n",
            "19/19 [==============================] - 1s 65ms/step - loss: 0.1231 - mae: 0.2693 - val_loss: 5.4760 - val_mae: 1.9995 - lr: 5.9049e-04\n",
            "Epoch 52/200\n",
            "19/19 [==============================] - 1s 70ms/step - loss: 0.1016 - mae: 0.2294 - val_loss: 7.9028 - val_mae: 2.2820 - lr: 5.9049e-04\n",
            "Epoch 53/200\n",
            "19/19 [==============================] - 1s 65ms/step - loss: 0.0625 - mae: 0.1908 - val_loss: 7.6916 - val_mae: 2.2641 - lr: 5.9049e-04\n",
            "Epoch 54/200\n",
            "19/19 [==============================] - 1s 66ms/step - loss: 0.0828 - mae: 0.2189 - val_loss: 6.5643 - val_mae: 2.0858 - lr: 5.9049e-04\n",
            "Epoch 55/200\n",
            "18/19 [===========================>..] - ETA: 0s - loss: 0.0596 - mae: 0.1886\n",
            "Epoch 55: ReduceLROnPlateau reducing learning rate to 0.0005314410547725857.\n",
            "19/19 [==============================] - 1s 65ms/step - loss: 0.0616 - mae: 0.1911 - val_loss: 6.8012 - val_mae: 2.1358 - lr: 5.9049e-04\n",
            "Epoch 56/200\n",
            "19/19 [==============================] - 1s 66ms/step - loss: 0.0557 - mae: 0.1857 - val_loss: 5.4982 - val_mae: 1.9503 - lr: 5.3144e-04\n",
            "Epoch 57/200\n",
            "19/19 [==============================] - 1s 77ms/step - loss: 0.0608 - mae: 0.1838 - val_loss: 3.1309 - val_mae: 1.4587 - lr: 5.3144e-04\n",
            "Epoch 58/200\n",
            "19/19 [==============================] - 2s 83ms/step - loss: 0.0468 - mae: 0.1673 - val_loss: 4.8675 - val_mae: 1.8149 - lr: 5.3144e-04\n",
            "Epoch 59/200\n",
            "19/19 [==============================] - 2s 86ms/step - loss: 0.0539 - mae: 0.1829 - val_loss: 2.9886 - val_mae: 1.4052 - lr: 5.3144e-04\n",
            "Epoch 60/200\n",
            "18/19 [===========================>..] - ETA: 0s - loss: 0.0425 - mae: 0.1617\n",
            "Epoch 60: ReduceLROnPlateau reducing learning rate to 0.00047829695977270604.\n",
            "19/19 [==============================] - 1s 69ms/step - loss: 0.0423 - mae: 0.1617 - val_loss: 2.1110 - val_mae: 1.1380 - lr: 5.3144e-04\n",
            "Epoch 61/200\n",
            "19/19 [==============================] - 2s 108ms/step - loss: 0.0477 - mae: 0.1588 - val_loss: 1.2940 - val_mae: 0.8287 - lr: 4.7830e-04\n",
            "Epoch 62/200\n",
            "19/19 [==============================] - 2s 104ms/step - loss: 0.0531 - mae: 0.1753 - val_loss: 1.0492 - val_mae: 0.6231 - lr: 4.7830e-04\n",
            "Epoch 63/200\n",
            "19/19 [==============================] - 1s 69ms/step - loss: 0.0427 - mae: 0.1572 - val_loss: 1.5880 - val_mae: 0.8996 - lr: 4.7830e-04\n",
            "Epoch 64/200\n",
            "19/19 [==============================] - 1s 70ms/step - loss: 0.0420 - mae: 0.1512 - val_loss: 1.7614 - val_mae: 0.9245 - lr: 4.7830e-04\n",
            "Epoch 65/200\n",
            "19/19 [==============================] - 1s 65ms/step - loss: 0.0517 - mae: 0.1726 - val_loss: 2.6107 - val_mae: 1.2425 - lr: 4.7830e-04\n",
            "Epoch 66/200\n",
            "19/19 [==============================] - 2s 80ms/step - loss: 0.0500 - mae: 0.1733 - val_loss: 3.0698 - val_mae: 1.3950 - lr: 4.7830e-04\n",
            "Epoch 67/200\n",
            "19/19 [==============================] - ETA: 0s - loss: 0.0411 - mae: 0.1607\n",
            "Epoch 67: ReduceLROnPlateau reducing learning rate to 0.0004304672533180565.\n",
            "19/19 [==============================] - 2s 84ms/step - loss: 0.0411 - mae: 0.1607 - val_loss: 2.9905 - val_mae: 1.3543 - lr: 4.7830e-04\n",
            "Epoch 68/200\n",
            "19/19 [==============================] - 2s 83ms/step - loss: 0.0470 - mae: 0.1669 - val_loss: 2.2623 - val_mae: 1.1353 - lr: 4.3047e-04\n",
            "Epoch 69/200\n",
            "19/19 [==============================] - 1s 65ms/step - loss: 0.0325 - mae: 0.1443 - val_loss: 1.8493 - val_mae: 0.9709 - lr: 4.3047e-04\n",
            "Epoch 70/200\n",
            "19/19 [==============================] - 1s 70ms/step - loss: 0.0531 - mae: 0.1729 - val_loss: 1.5510 - val_mae: 0.8828 - lr: 4.3047e-04\n",
            "Epoch 71/200\n",
            "19/19 [==============================] - 1s 70ms/step - loss: 0.0357 - mae: 0.1470 - val_loss: 1.5404 - val_mae: 0.8506 - lr: 4.3047e-04\n",
            "Epoch 72/200\n",
            "18/19 [===========================>..] - ETA: 0s - loss: 0.0426 - mae: 0.1630\n",
            "Epoch 72: ReduceLROnPlateau reducing learning rate to 0.00038742052274756136.\n",
            "19/19 [==============================] - 1s 65ms/step - loss: 0.0561 - mae: 0.1683 - val_loss: 2.4255 - val_mae: 1.1426 - lr: 4.3047e-04\n",
            "Epoch 73/200\n",
            "19/19 [==============================] - 1s 66ms/step - loss: 0.0577 - mae: 0.1865 - val_loss: 5.6535 - val_mae: 1.9394 - lr: 3.8742e-04\n",
            "Epoch 74/200\n",
            "19/19 [==============================] - 1s 65ms/step - loss: 0.0415 - mae: 0.1600 - val_loss: 3.8437 - val_mae: 1.5904 - lr: 3.8742e-04\n",
            "Epoch 75/200\n",
            "19/19 [==============================] - 1s 65ms/step - loss: 0.0431 - mae: 0.1599 - val_loss: 2.4250 - val_mae: 1.2398 - lr: 3.8742e-04\n",
            "Epoch 76/200\n",
            "19/19 [==============================] - 1s 74ms/step - loss: 0.0435 - mae: 0.1616 - val_loss: 1.9306 - val_mae: 1.1084 - lr: 3.8742e-04\n",
            "Epoch 77/200\n",
            "19/19 [==============================] - ETA: 0s - loss: 0.0497 - mae: 0.1741\n",
            "Epoch 77: ReduceLROnPlateau reducing learning rate to 0.0003486784757114947.\n",
            "19/19 [==============================] - 1s 78ms/step - loss: 0.0497 - mae: 0.1741 - val_loss: 1.6950 - val_mae: 0.9649 - lr: 3.8742e-04\n",
            "Epoch 78/200\n",
            "19/19 [==============================] - 2s 84ms/step - loss: 0.0388 - mae: 0.1533 - val_loss: 2.1751 - val_mae: 1.1247 - lr: 3.4868e-04\n",
            "Epoch 79/200\n",
            "19/19 [==============================] - 1s 65ms/step - loss: 0.0352 - mae: 0.1455 - val_loss: 2.5796 - val_mae: 1.2883 - lr: 3.4868e-04\n",
            "Epoch 80/200\n",
            "19/19 [==============================] - 1s 66ms/step - loss: 0.0339 - mae: 0.1416 - val_loss: 1.7412 - val_mae: 0.9583 - lr: 3.4868e-04\n",
            "Epoch 81/200\n",
            "19/19 [==============================] - 1s 69ms/step - loss: 0.0375 - mae: 0.1509 - val_loss: 2.5379 - val_mae: 1.2119 - lr: 3.4868e-04\n",
            "Epoch 82/200\n",
            "18/19 [===========================>..] - ETA: 0s - loss: 0.0330 - mae: 0.1395\n",
            "Epoch 82: ReduceLROnPlateau reducing learning rate to 0.00031381062290165574.\n",
            "19/19 [==============================] - 1s 67ms/step - loss: 0.0334 - mae: 0.1410 - val_loss: 2.6847 - val_mae: 1.2874 - lr: 3.4868e-04\n",
            "Epoch 83/200\n",
            "19/19 [==============================] - 1s 66ms/step - loss: 0.0332 - mae: 0.1427 - val_loss: 2.3397 - val_mae: 1.2101 - lr: 3.1381e-04\n",
            "Epoch 84/200\n",
            "19/19 [==============================] - 1s 65ms/step - loss: 0.0374 - mae: 0.1496 - val_loss: 1.9233 - val_mae: 1.0647 - lr: 3.1381e-04\n",
            "Epoch 85/200\n",
            "19/19 [==============================] - 1s 69ms/step - loss: 0.0309 - mae: 0.1378 - val_loss: 1.6953 - val_mae: 0.9784 - lr: 3.1381e-04\n",
            "Epoch 86/200\n",
            "19/19 [==============================] - 1s 74ms/step - loss: 0.0338 - mae: 0.1402 - val_loss: 2.8160 - val_mae: 1.3320 - lr: 3.1381e-04\n",
            "Epoch 87/200\n",
            "19/19 [==============================] - ETA: 0s - loss: 0.0340 - mae: 0.1459\n",
            "Epoch 87: ReduceLROnPlateau reducing learning rate to 0.0002824295632308349.\n",
            "19/19 [==============================] - 2s 85ms/step - loss: 0.0340 - mae: 0.1459 - val_loss: 2.1770 - val_mae: 1.1160 - lr: 3.1381e-04\n",
            "Epoch 88/200\n",
            "19/19 [==============================] - 2s 88ms/step - loss: 0.0310 - mae: 0.1376 - val_loss: 1.2429 - val_mae: 0.7876 - lr: 2.8243e-04\n",
            "Epoch 89/200\n",
            "19/19 [==============================] - 2s 110ms/step - loss: 0.0297 - mae: 0.1345 - val_loss: 0.8276 - val_mae: 0.5775 - lr: 2.8243e-04\n",
            "Epoch 90/200\n",
            "19/19 [==============================] - 1s 66ms/step - loss: 0.0278 - mae: 0.1335 - val_loss: 0.9128 - val_mae: 0.6082 - lr: 2.8243e-04\n",
            "Epoch 91/200\n",
            "19/19 [==============================] - 2s 105ms/step - loss: 0.0279 - mae: 0.1295 - val_loss: 0.6003 - val_mae: 0.3774 - lr: 2.8243e-04\n",
            "Epoch 92/200\n",
            "19/19 [==============================] - 1s 71ms/step - loss: 0.0273 - mae: 0.1255 - val_loss: 0.7310 - val_mae: 0.4526 - lr: 2.8243e-04\n",
            "Epoch 93/200\n",
            "19/19 [==============================] - 1s 69ms/step - loss: 0.0287 - mae: 0.1325 - val_loss: 0.7303 - val_mae: 0.4091 - lr: 2.8243e-04\n",
            "Epoch 94/200\n",
            "19/19 [==============================] - 1s 68ms/step - loss: 0.0286 - mae: 0.1266 - val_loss: 0.8881 - val_mae: 0.4677 - lr: 2.8243e-04\n",
            "Epoch 95/200\n",
            "19/19 [==============================] - 1s 78ms/step - loss: 0.0251 - mae: 0.1219 - val_loss: 0.9608 - val_mae: 0.5263 - lr: 2.8243e-04\n",
            "Epoch 96/200\n",
            "19/19 [==============================] - ETA: 0s - loss: 0.0292 - mae: 0.1347\n",
            "Epoch 96: ReduceLROnPlateau reducing learning rate to 0.00025418660952709616.\n",
            "19/19 [==============================] - 2s 87ms/step - loss: 0.0292 - mae: 0.1347 - val_loss: 0.8117 - val_mae: 0.4653 - lr: 2.8243e-04\n",
            "Epoch 97/200\n",
            "19/19 [==============================] - 1s 77ms/step - loss: 0.0288 - mae: 0.1286 - val_loss: 0.7942 - val_mae: 0.5779 - lr: 2.5419e-04\n",
            "Epoch 98/200\n",
            "19/19 [==============================] - 1s 66ms/step - loss: 0.0282 - mae: 0.1303 - val_loss: 2.1353 - val_mae: 1.0763 - lr: 2.5419e-04\n",
            "Epoch 99/200\n",
            "19/19 [==============================] - 1s 66ms/step - loss: 0.0277 - mae: 0.1282 - val_loss: 2.0512 - val_mae: 1.0376 - lr: 2.5419e-04\n",
            "Epoch 100/200\n",
            "19/19 [==============================] - 1s 66ms/step - loss: 0.0303 - mae: 0.1317 - val_loss: 1.3695 - val_mae: 0.8257 - lr: 2.5419e-04\n",
            "Epoch 101/200\n",
            "18/19 [===========================>..] - ETA: 0s - loss: 0.0275 - mae: 0.1298\n",
            "Epoch 101: ReduceLROnPlateau reducing learning rate to 0.00022876793809700757.\n",
            "19/19 [==============================] - 1s 70ms/step - loss: 0.0282 - mae: 0.1306 - val_loss: 0.8917 - val_mae: 0.6069 - lr: 2.5419e-04\n",
            "Epoch 102/200\n",
            "19/19 [==============================] - 1s 66ms/step - loss: 0.0257 - mae: 0.1216 - val_loss: 0.6274 - val_mae: 0.3985 - lr: 2.2877e-04\n",
            "Epoch 103/200\n",
            "19/19 [==============================] - 1s 70ms/step - loss: 0.0267 - mae: 0.1292 - val_loss: 0.7074 - val_mae: 0.4436 - lr: 2.2877e-04\n",
            "Epoch 104/200\n",
            "19/19 [==============================] - 1s 65ms/step - loss: 0.0295 - mae: 0.1345 - val_loss: 0.7184 - val_mae: 0.4425 - lr: 2.2877e-04\n",
            "Epoch 105/200\n",
            "19/19 [==============================] - 1s 77ms/step - loss: 0.0231 - mae: 0.1189 - val_loss: 0.7163 - val_mae: 0.4114 - lr: 2.2877e-04\n",
            "Epoch 106/200\n",
            "19/19 [==============================] - ETA: 0s - loss: 0.0297 - mae: 0.1311\n",
            "Epoch 106: ReduceLROnPlateau reducing learning rate to 0.00020589114428730683.\n",
            "19/19 [==============================] - 2s 85ms/step - loss: 0.0297 - mae: 0.1311 - val_loss: 0.7282 - val_mae: 0.4465 - lr: 2.2877e-04\n",
            "Epoch 107/200\n",
            "19/19 [==============================] - 2s 81ms/step - loss: 0.0285 - mae: 0.1278 - val_loss: 0.7796 - val_mae: 0.4307 - lr: 2.0589e-04\n",
            "Epoch 108/200\n",
            "19/19 [==============================] - 1s 70ms/step - loss: 0.0281 - mae: 0.1270 - val_loss: 0.6890 - val_mae: 0.4397 - lr: 2.0589e-04\n",
            "Epoch 109/200\n",
            "19/19 [==============================] - 1s 70ms/step - loss: 0.0252 - mae: 0.1233 - val_loss: 0.6464 - val_mae: 0.4008 - lr: 2.0589e-04\n",
            "Epoch 110/200\n",
            "19/19 [==============================] - 1s 68ms/step - loss: 0.0312 - mae: 0.1389 - val_loss: 0.6181 - val_mae: 0.3868 - lr: 2.0589e-04\n",
            "Epoch 111/200\n",
            "19/19 [==============================] - ETA: 0s - loss: 0.0266 - mae: 0.1257\n",
            "Epoch 111: ReduceLROnPlateau reducing learning rate to 0.00018530203378759326.\n",
            "19/19 [==============================] - 1s 72ms/step - loss: 0.0266 - mae: 0.1257 - val_loss: 0.6137 - val_mae: 0.3877 - lr: 2.0589e-04\n",
            "Epoch 112/200\n",
            "19/19 [==============================] - 2s 106ms/step - loss: 0.0260 - mae: 0.1265 - val_loss: 0.5667 - val_mae: 0.3700 - lr: 1.8530e-04\n",
            "Epoch 113/200\n",
            "19/19 [==============================] - 1s 67ms/step - loss: 0.0235 - mae: 0.1193 - val_loss: 0.6942 - val_mae: 0.4844 - lr: 1.8530e-04\n",
            "Epoch 114/200\n",
            "19/19 [==============================] - 1s 77ms/step - loss: 0.0243 - mae: 0.1215 - val_loss: 0.6825 - val_mae: 0.4132 - lr: 1.8530e-04\n",
            "Epoch 115/200\n",
            "19/19 [==============================] - 2s 86ms/step - loss: 0.0233 - mae: 0.1204 - val_loss: 0.8790 - val_mae: 0.5311 - lr: 1.8530e-04\n",
            "Epoch 116/200\n",
            "19/19 [==============================] - 2s 85ms/step - loss: 0.0239 - mae: 0.1214 - val_loss: 0.8716 - val_mae: 0.5443 - lr: 1.8530e-04\n",
            "Epoch 117/200\n",
            "18/19 [===========================>..] - ETA: 0s - loss: 0.0233 - mae: 0.1222\n",
            "Epoch 117: ReduceLROnPlateau reducing learning rate to 0.00016677183302817866.\n",
            "19/19 [==============================] - 1s 69ms/step - loss: 0.0240 - mae: 0.1236 - val_loss: 0.8053 - val_mae: 0.5178 - lr: 1.8530e-04\n",
            "Epoch 118/200\n",
            "19/19 [==============================] - 1s 69ms/step - loss: 0.0328 - mae: 0.1395 - val_loss: 0.5991 - val_mae: 0.3782 - lr: 1.6677e-04\n",
            "Epoch 119/200\n",
            "19/19 [==============================] - 1s 65ms/step - loss: 0.0225 - mae: 0.1178 - val_loss: 0.6476 - val_mae: 0.3785 - lr: 1.6677e-04\n",
            "Epoch 120/200\n",
            "19/19 [==============================] - 2s 110ms/step - loss: 0.0263 - mae: 0.1266 - val_loss: 0.5544 - val_mae: 0.3659 - lr: 1.6677e-04\n",
            "Epoch 121/200\n",
            "19/19 [==============================] - 1s 70ms/step - loss: 0.0225 - mae: 0.1180 - val_loss: 0.5741 - val_mae: 0.3809 - lr: 1.6677e-04\n",
            "Epoch 122/200\n",
            "19/19 [==============================] - 1s 71ms/step - loss: 0.0261 - mae: 0.1236 - val_loss: 0.6813 - val_mae: 0.4083 - lr: 1.6677e-04\n",
            "Epoch 123/200\n",
            "19/19 [==============================] - 1s 70ms/step - loss: 0.0258 - mae: 0.1238 - val_loss: 0.6152 - val_mae: 0.4027 - lr: 1.6677e-04\n",
            "Epoch 124/200\n",
            "19/19 [==============================] - 2s 86ms/step - loss: 0.0219 - mae: 0.1166 - val_loss: 0.6538 - val_mae: 0.4315 - lr: 1.6677e-04\n",
            "Epoch 125/200\n",
            "19/19 [==============================] - ETA: 0s - loss: 0.0218 - mae: 0.1157\n",
            "Epoch 125: ReduceLROnPlateau reducing learning rate to 0.00015009464841568844.\n",
            "19/19 [==============================] - 2s 91ms/step - loss: 0.0218 - mae: 0.1157 - val_loss: 0.6219 - val_mae: 0.4022 - lr: 1.6677e-04\n",
            "Epoch 126/200\n",
            "19/19 [==============================] - 1s 68ms/step - loss: 0.0224 - mae: 0.1157 - val_loss: 0.6051 - val_mae: 0.3941 - lr: 1.5009e-04\n",
            "Epoch 127/200\n",
            "19/19 [==============================] - 1s 65ms/step - loss: 0.0235 - mae: 0.1184 - val_loss: 0.5998 - val_mae: 0.3894 - lr: 1.5009e-04\n",
            "Epoch 128/200\n",
            "19/19 [==============================] - 1s 66ms/step - loss: 0.0217 - mae: 0.1168 - val_loss: 0.5697 - val_mae: 0.3767 - lr: 1.5009e-04\n",
            "Epoch 129/200\n",
            "19/19 [==============================] - 2s 109ms/step - loss: 0.0226 - mae: 0.1190 - val_loss: 0.5569 - val_mae: 0.3605 - lr: 1.5009e-04\n",
            "Epoch 130/200\n",
            "19/19 [==============================] - 2s 106ms/step - loss: 0.0245 - mae: 0.1218 - val_loss: 0.5618 - val_mae: 0.3604 - lr: 1.5009e-04\n",
            "Epoch 131/200\n",
            "19/19 [==============================] - 1s 67ms/step - loss: 0.0212 - mae: 0.1130 - val_loss: 0.6001 - val_mae: 0.4103 - lr: 1.5009e-04\n",
            "Epoch 132/200\n",
            "19/19 [==============================] - 1s 74ms/step - loss: 0.0220 - mae: 0.1148 - val_loss: 0.7446 - val_mae: 0.5583 - lr: 1.5009e-04\n",
            "Epoch 133/200\n",
            "19/19 [==============================] - 2s 84ms/step - loss: 0.0258 - mae: 0.1243 - val_loss: 0.6500 - val_mae: 0.4713 - lr: 1.5009e-04\n",
            "Epoch 134/200\n",
            "19/19 [==============================] - 2s 90ms/step - loss: 0.0223 - mae: 0.1164 - val_loss: 0.7080 - val_mae: 0.4151 - lr: 1.5009e-04\n",
            "Epoch 135/200\n",
            "18/19 [===========================>..] - ETA: 0s - loss: 0.0269 - mae: 0.1229\n",
            "Epoch 135: ReduceLROnPlateau reducing learning rate to 0.0001350851875031367.\n",
            "19/19 [==============================] - 1s 67ms/step - loss: 0.0268 - mae: 0.1230 - val_loss: 0.7782 - val_mae: 0.4130 - lr: 1.5009e-04\n",
            "Epoch 136/200\n",
            "19/19 [==============================] - 1s 67ms/step - loss: 0.0219 - mae: 0.1144 - val_loss: 0.7807 - val_mae: 0.4359 - lr: 1.3509e-04\n",
            "Epoch 137/200\n",
            "19/19 [==============================] - 1s 71ms/step - loss: 0.0256 - mae: 0.1233 - val_loss: 0.6684 - val_mae: 0.3795 - lr: 1.3509e-04\n",
            "Epoch 138/200\n",
            "19/19 [==============================] - 1s 66ms/step - loss: 0.0220 - mae: 0.1149 - val_loss: 0.6200 - val_mae: 0.3664 - lr: 1.3509e-04\n",
            "Epoch 139/200\n",
            "19/19 [==============================] - 1s 69ms/step - loss: 0.0211 - mae: 0.1127 - val_loss: 0.5879 - val_mae: 0.3970 - lr: 1.3509e-04\n",
            "Epoch 140/200\n",
            "19/19 [==============================] - ETA: 0s - loss: 0.0233 - mae: 0.1202\n",
            "Epoch 140: ReduceLROnPlateau reducing learning rate to 0.00012157666351413355.\n",
            "19/19 [==============================] - 1s 68ms/step - loss: 0.0233 - mae: 0.1202 - val_loss: 0.7826 - val_mae: 0.5284 - lr: 1.3509e-04\n",
            "Epoch 141/200\n",
            "19/19 [==============================] - 1s 66ms/step - loss: 0.0229 - mae: 0.1187 - val_loss: 0.5764 - val_mae: 0.3685 - lr: 1.2158e-04\n",
            "Epoch 142/200\n",
            "19/19 [==============================] - 1s 77ms/step - loss: 0.0250 - mae: 0.1224 - val_loss: 0.5852 - val_mae: 0.3702 - lr: 1.2158e-04\n",
            "Epoch 143/200\n",
            "19/19 [==============================] - 3s 162ms/step - loss: 0.0202 - mae: 0.1118 - val_loss: 0.5759 - val_mae: 0.3598 - lr: 1.2158e-04\n",
            "Epoch 144/200\n",
            "19/19 [==============================] - 2s 106ms/step - loss: 0.0211 - mae: 0.1127 - val_loss: 0.5499 - val_mae: 0.3477 - lr: 1.2158e-04\n",
            "Epoch 145/200\n",
            "19/19 [==============================] - 1s 66ms/step - loss: 0.0206 - mae: 0.1116 - val_loss: 0.5557 - val_mae: 0.3678 - lr: 1.2158e-04\n",
            "Epoch 146/200\n",
            "19/19 [==============================] - 1s 66ms/step - loss: 0.0238 - mae: 0.1172 - val_loss: 0.5987 - val_mae: 0.4003 - lr: 1.2158e-04\n",
            "Epoch 147/200\n",
            "19/19 [==============================] - 1s 71ms/step - loss: 0.0237 - mae: 0.1175 - val_loss: 0.7590 - val_mae: 0.4702 - lr: 1.2158e-04\n",
            "Epoch 148/200\n",
            "19/19 [==============================] - 1s 70ms/step - loss: 0.0230 - mae: 0.1216 - val_loss: 0.9092 - val_mae: 0.4788 - lr: 1.2158e-04\n",
            "Epoch 149/200\n",
            "19/19 [==============================] - ETA: 0s - loss: 0.0204 - mae: 0.1120\n",
            "Epoch 149: ReduceLROnPlateau reducing learning rate to 0.00010941899454337544.\n",
            "19/19 [==============================] - 1s 66ms/step - loss: 0.0204 - mae: 0.1120 - val_loss: 0.8679 - val_mae: 0.4571 - lr: 1.2158e-04\n",
            "Epoch 150/200\n",
            "19/19 [==============================] - 1s 67ms/step - loss: 0.0210 - mae: 0.1119 - val_loss: 0.8197 - val_mae: 0.4197 - lr: 1.0942e-04\n",
            "Epoch 151/200\n",
            "19/19 [==============================] - 2s 82ms/step - loss: 0.0212 - mae: 0.1131 - val_loss: 0.9145 - val_mae: 0.4483 - lr: 1.0942e-04\n",
            "Epoch 152/200\n",
            "19/19 [==============================] - 2s 88ms/step - loss: 0.0224 - mae: 0.1149 - val_loss: 0.8877 - val_mae: 0.4566 - lr: 1.0942e-04\n",
            "Epoch 153/200\n",
            "19/19 [==============================] - 2s 81ms/step - loss: 0.0201 - mae: 0.1120 - val_loss: 0.7522 - val_mae: 0.4155 - lr: 1.0942e-04\n",
            "Epoch 154/200\n",
            "18/19 [===========================>..] - ETA: 0s - loss: 0.0177 - mae: 0.1062\n",
            "Epoch 154: ReduceLROnPlateau reducing learning rate to 9.847709443420172e-05.\n",
            "19/19 [==============================] - 1s 66ms/step - loss: 0.0178 - mae: 0.1065 - val_loss: 0.5966 - val_mae: 0.3733 - lr: 1.0942e-04\n",
            "Epoch 155/200\n",
            "19/19 [==============================] - 2s 105ms/step - loss: 0.0199 - mae: 0.1116 - val_loss: 0.5547 - val_mae: 0.3472 - lr: 9.8477e-05\n",
            "Epoch 156/200\n",
            "19/19 [==============================] - 1s 70ms/step - loss: 0.0180 - mae: 0.1040 - val_loss: 0.6318 - val_mae: 0.3598 - lr: 9.8477e-05\n",
            "Epoch 157/200\n",
            "19/19 [==============================] - 1s 71ms/step - loss: 0.0187 - mae: 0.1083 - val_loss: 0.5801 - val_mae: 0.3475 - lr: 9.8477e-05\n",
            "Epoch 158/200\n",
            "19/19 [==============================] - 1s 71ms/step - loss: 0.0214 - mae: 0.1149 - val_loss: 0.5708 - val_mae: 0.3659 - lr: 9.8477e-05\n",
            "Epoch 159/200\n",
            "19/19 [==============================] - 1s 66ms/step - loss: 0.0195 - mae: 0.1107 - val_loss: 0.5870 - val_mae: 0.3836 - lr: 9.8477e-05\n",
            "Epoch 160/200\n",
            "19/19 [==============================] - ETA: 0s - loss: 0.0195 - mae: 0.1091\n",
            "Epoch 160: ReduceLROnPlateau reducing learning rate to 8.862938630045391e-05.\n",
            "19/19 [==============================] - 1s 77ms/step - loss: 0.0195 - mae: 0.1091 - val_loss: 0.5606 - val_mae: 0.3752 - lr: 9.8477e-05\n",
            "Epoch 161/200\n",
            "19/19 [==============================] - 2s 82ms/step - loss: 0.0181 - mae: 0.1022 - val_loss: 0.5793 - val_mae: 0.4223 - lr: 8.8629e-05\n",
            "Epoch 162/200\n",
            "19/19 [==============================] - 2s 83ms/step - loss: 0.0201 - mae: 0.1118 - val_loss: 0.5976 - val_mae: 0.4317 - lr: 8.8629e-05\n",
            "Epoch 163/200\n",
            "19/19 [==============================] - 1s 67ms/step - loss: 0.0158 - mae: 0.0971 - val_loss: 0.5722 - val_mae: 0.4272 - lr: 8.8629e-05\n",
            "Epoch 164/200\n",
            "19/19 [==============================] - 1s 67ms/step - loss: 0.0216 - mae: 0.1143 - val_loss: 0.5514 - val_mae: 0.3540 - lr: 8.8629e-05\n",
            "Epoch 165/200\n",
            "19/19 [==============================] - ETA: 0s - loss: 0.0203 - mae: 0.1110\n",
            "Epoch 165: ReduceLROnPlateau reducing learning rate to 7.976644701557234e-05.\n",
            "19/19 [==============================] - 1s 68ms/step - loss: 0.0203 - mae: 0.1110 - val_loss: 0.5443 - val_mae: 0.3632 - lr: 8.8629e-05\n",
            "Epoch 166/200\n",
            "19/19 [==============================] - 2s 109ms/step - loss: 0.0182 - mae: 0.1062 - val_loss: 0.6437 - val_mae: 0.3471 - lr: 7.9766e-05\n",
            "Epoch 167/200\n",
            "19/19 [==============================] - 1s 71ms/step - loss: 0.0200 - mae: 0.1081 - val_loss: 0.7021 - val_mae: 0.3725 - lr: 7.9766e-05\n",
            "Epoch 168/200\n",
            "19/19 [==============================] - 1s 70ms/step - loss: 0.0187 - mae: 0.1052 - val_loss: 0.7195 - val_mae: 0.3721 - lr: 7.9766e-05\n",
            "Epoch 169/200\n",
            "19/19 [==============================] - 1s 66ms/step - loss: 0.0183 - mae: 0.1062 - val_loss: 0.6897 - val_mae: 0.3700 - lr: 7.9766e-05\n",
            "Epoch 170/200\n",
            "19/19 [==============================] - 2s 85ms/step - loss: 0.0165 - mae: 0.1029 - val_loss: 0.6879 - val_mae: 0.3665 - lr: 7.9766e-05\n",
            "Epoch 171/200\n",
            "19/19 [==============================] - ETA: 0s - loss: 0.0192 - mae: 0.1046\n",
            "Epoch 171: ReduceLROnPlateau reducing learning rate to 7.178980231401511e-05.\n",
            "19/19 [==============================] - 2s 93ms/step - loss: 0.0192 - mae: 0.1046 - val_loss: 0.6717 - val_mae: 0.3630 - lr: 7.9766e-05\n",
            "Epoch 172/200\n",
            "19/19 [==============================] - 2s 108ms/step - loss: 0.0198 - mae: 0.1110 - val_loss: 0.5228 - val_mae: 0.3345 - lr: 7.1790e-05\n",
            "Epoch 173/200\n",
            "19/19 [==============================] - 1s 70ms/step - loss: 0.0214 - mae: 0.1119 - val_loss: 0.5364 - val_mae: 0.3359 - lr: 7.1790e-05\n",
            "Epoch 174/200\n",
            "19/19 [==============================] - 1s 71ms/step - loss: 0.0199 - mae: 0.1099 - val_loss: 0.6484 - val_mae: 0.3686 - lr: 7.1790e-05\n",
            "Epoch 175/200\n",
            "19/19 [==============================] - 1s 66ms/step - loss: 0.0185 - mae: 0.1047 - val_loss: 0.6147 - val_mae: 0.3969 - lr: 7.1790e-05\n",
            "Epoch 176/200\n",
            "19/19 [==============================] - 1s 70ms/step - loss: 0.0179 - mae: 0.1030 - val_loss: 0.5579 - val_mae: 0.3898 - lr: 7.1790e-05\n",
            "Epoch 177/200\n",
            "18/19 [===========================>..] - ETA: 0s - loss: 0.0179 - mae: 0.1060\n",
            "Epoch 177: ReduceLROnPlateau reducing learning rate to 6.461082011810504e-05.\n",
            "19/19 [==============================] - 1s 71ms/step - loss: 0.0180 - mae: 0.1062 - val_loss: 0.5602 - val_mae: 0.3804 - lr: 7.1790e-05\n",
            "Epoch 178/200\n",
            "19/19 [==============================] - 1s 67ms/step - loss: 0.0178 - mae: 0.1031 - val_loss: 0.6360 - val_mae: 0.3673 - lr: 6.4611e-05\n",
            "Epoch 179/200\n",
            "19/19 [==============================] - 2s 81ms/step - loss: 0.0200 - mae: 0.1062 - val_loss: 0.6099 - val_mae: 0.3574 - lr: 6.4611e-05\n",
            "Epoch 180/200\n",
            "19/19 [==============================] - 2s 92ms/step - loss: 0.0187 - mae: 0.1079 - val_loss: 0.5187 - val_mae: 0.3428 - lr: 6.4611e-05\n",
            "Epoch 181/200\n",
            "19/19 [==============================] - 2s 79ms/step - loss: 0.0186 - mae: 0.1072 - val_loss: 0.5189 - val_mae: 0.3500 - lr: 6.4611e-05\n",
            "Epoch 182/200\n",
            "18/19 [===========================>..] - ETA: 0s - loss: 0.0175 - mae: 0.1043\n",
            "Epoch 182: ReduceLROnPlateau reducing learning rate to 5.8149741380475466e-05.\n",
            "19/19 [==============================] - 1s 66ms/step - loss: 0.0176 - mae: 0.1046 - val_loss: 0.5537 - val_mae: 0.3668 - lr: 6.4611e-05\n",
            "Epoch 183/200\n",
            "19/19 [==============================] - 1s 66ms/step - loss: 0.0220 - mae: 0.1124 - val_loss: 0.6178 - val_mae: 0.3803 - lr: 5.8150e-05\n",
            "Epoch 184/200\n",
            "19/19 [==============================] - 1s 70ms/step - loss: 0.0192 - mae: 0.1066 - val_loss: 0.5846 - val_mae: 0.3646 - lr: 5.8150e-05\n",
            "Epoch 185/200\n",
            "19/19 [==============================] - 1s 70ms/step - loss: 0.0191 - mae: 0.1085 - val_loss: 0.5759 - val_mae: 0.3548 - lr: 5.8150e-05\n",
            "Epoch 186/200\n",
            "19/19 [==============================] - 1s 66ms/step - loss: 0.0184 - mae: 0.1071 - val_loss: 0.6244 - val_mae: 0.3571 - lr: 5.8150e-05\n",
            "Epoch 187/200\n",
            "18/19 [===========================>..] - ETA: 0s - loss: 0.0182 - mae: 0.1061\n",
            "Epoch 187: ReduceLROnPlateau reducing learning rate to 5.233476658759173e-05.\n",
            "19/19 [==============================] - 1s 70ms/step - loss: 0.0188 - mae: 0.1077 - val_loss: 0.6262 - val_mae: 0.3669 - lr: 5.8150e-05\n",
            "Epoch 188/200\n",
            "19/19 [==============================] - 1s 66ms/step - loss: 0.0199 - mae: 0.1089 - val_loss: 0.5917 - val_mae: 0.3738 - lr: 5.2335e-05\n",
            "Epoch 189/200\n",
            "19/19 [==============================] - 2s 83ms/step - loss: 0.0182 - mae: 0.1043 - val_loss: 0.6042 - val_mae: 0.3914 - lr: 5.2335e-05\n",
            "Epoch 190/200\n",
            "19/19 [==============================] - 2s 83ms/step - loss: 0.0155 - mae: 0.0976 - val_loss: 0.5448 - val_mae: 0.3665 - lr: 5.2335e-05\n",
            "Epoch 191/200\n",
            "19/19 [==============================] - 1s 79ms/step - loss: 0.0167 - mae: 0.1014 - val_loss: 0.5479 - val_mae: 0.3673 - lr: 5.2335e-05\n",
            "Epoch 192/200\n",
            "18/19 [===========================>..] - ETA: 0s - loss: 0.0157 - mae: 0.0985\n",
            "Epoch 192: ReduceLROnPlateau reducing learning rate to 4.7101289601414466e-05.\n",
            "19/19 [==============================] - 1s 67ms/step - loss: 0.0158 - mae: 0.0986 - val_loss: 0.6216 - val_mae: 0.3746 - lr: 5.2335e-05\n",
            "Epoch 193/200\n",
            "19/19 [==============================] - 1s 68ms/step - loss: 0.0174 - mae: 0.1038 - val_loss: 0.6227 - val_mae: 0.3645 - lr: 4.7101e-05\n",
            "Epoch 194/200\n",
            "19/19 [==============================] - 1s 67ms/step - loss: 0.0173 - mae: 0.1026 - val_loss: 0.6176 - val_mae: 0.3582 - lr: 4.7101e-05\n",
            "Epoch 195/200\n",
            "19/19 [==============================] - 1s 71ms/step - loss: 0.0186 - mae: 0.1074 - val_loss: 0.6289 - val_mae: 0.3601 - lr: 4.7101e-05\n",
            "Epoch 196/200\n",
            "19/19 [==============================] - 1s 66ms/step - loss: 0.0163 - mae: 0.1005 - val_loss: 0.6233 - val_mae: 0.3556 - lr: 4.7101e-05\n",
            "Epoch 197/200\n",
            "19/19 [==============================] - 2s 105ms/step - loss: 0.0172 - mae: 0.1025 - val_loss: 0.5422 - val_mae: 0.3335 - lr: 4.7101e-05\n",
            "Epoch 198/200\n",
            "19/19 [==============================] - 1s 71ms/step - loss: 0.0176 - mae: 0.1032 - val_loss: 0.5832 - val_mae: 0.3421 - lr: 4.7101e-05\n",
            "Epoch 199/200\n",
            "19/19 [==============================] - 2s 86ms/step - loss: 0.0163 - mae: 0.0998 - val_loss: 0.6443 - val_mae: 0.3600 - lr: 4.7101e-05\n",
            "Epoch 200/200\n",
            "19/19 [==============================] - 2s 87ms/step - loss: 0.0178 - mae: 0.1059 - val_loss: 0.7118 - val_mae: 0.3814 - lr: 4.7101e-05\n"
          ]
        }
      ],
      "source": [
        "EPOCHS=200\n",
        "BATCH_SIZE=32\n",
        "\n",
        "history=model.fit(X_train,\n",
        "                 Y_train,\n",
        "                 validation_data=(X_test,Y_test),\n",
        "                 batch_size=BATCH_SIZE,\n",
        "                 epochs=EPOCHS,\n",
        "                 callbacks=[model_checkpoint,reduce_lr]\n",
        "                 )"
      ]
    },
    {
      "cell_type": "code",
      "execution_count": 16,
      "id": "canadian-baptist",
      "metadata": {
        "colab": {
          "base_uri": "https://localhost:8080/"
        },
        "id": "canadian-baptist",
        "outputId": "d617e209-cb5f-45f8-8050-4b9236c8c42f"
      },
      "outputs": [
        {
          "output_type": "execute_result",
          "data": {
            "text/plain": [
              "<tensorflow.python.checkpoint.checkpoint.CheckpointLoadStatus at 0x7d8aeeabff40>"
            ]
          },
          "metadata": {},
          "execution_count": 16
        }
      ],
      "source": [
        "model.load_weights(ckp_path)"
      ]
    },
    {
      "cell_type": "code",
      "execution_count": 17,
      "id": "split-adoption",
      "metadata": {
        "id": "split-adoption"
      },
      "outputs": [],
      "source": [
        "converter = tf.lite.TFLiteConverter.from_keras_model(model)\n",
        "tflite_model = converter.convert()\n",
        "\n",
        "# Save the model.\n",
        "with open('model.tflite', 'wb') as f:\n",
        "  f.write(tflite_model)"
      ]
    },
    {
      "cell_type": "code",
      "execution_count": 18,
      "id": "collect-order",
      "metadata": {
        "colab": {
          "base_uri": "https://localhost:8080/"
        },
        "id": "collect-order",
        "outputId": "02dec0e6-a601-48b1-e8ad-3c3ae958e20c"
      },
      "outputs": [
        {
          "output_type": "stream",
          "name": "stdout",
          "text": [
            "5/5 [==============================] - 2s 21ms/step\n"
          ]
        }
      ],
      "source": [
        "prediction_val=model.predict(X_test,batch_size=BATCH_SIZE)"
      ]
    },
    {
      "cell_type": "code",
      "execution_count": 19,
      "id": "lovely-breach",
      "metadata": {
        "id": "lovely-breach"
      },
      "outputs": [],
      "source": [
        "prediction_val\n",
        "np.savetxt('prediction_val.csv', np.round(prediction_val).astype(int), delimiter=',', fmt='%d')"
      ]
    },
    {
      "cell_type": "code",
      "execution_count": 20,
      "id": "continuous-heating",
      "metadata": {
        "id": "continuous-heating"
      },
      "outputs": [],
      "source": [
        "Y_test\n",
        "np.savetxt('targets.csv', Y_test, delimiter=',', fmt='%d')"
      ]
    },
    {
      "cell_type": "code",
      "execution_count": 21,
      "id": "-1thMTmDrpSf",
      "metadata": {
        "id": "-1thMTmDrpSf",
        "colab": {
          "base_uri": "https://localhost:8080/",
          "height": 507
        },
        "outputId": "6a77b0d5-f510-4561-8f00-ab606760d8c9"
      },
      "outputs": [
        {
          "output_type": "display_data",
          "data": {
            "text/plain": [
              "<Figure size 1200x500 with 2 Axes>"
            ],
            "image/png": "[encoded data removed]"
          },
          "metadata": {}
        }
      ],
      "source": [
        "import matplotlib.pyplot as plt\n",
        "\n",
        "# Obtener los valores de las métricas\n",
        "loss = history.history['loss']\n",
        "val_loss = history.history['val_loss']\n",
        "mae = history.history['mae']\n",
        "val_mae = history.history['val_mae']\n",
        "epochs = list(range(1, len(loss) + 1))\n",
        "\n",
        "# Encontrar el índice del valor máximo de val_loss y val_mae\n",
        "max_val_loss_index = val_loss.index(max(val_loss))\n",
        "max_val_mae_index = val_mae.index(max(val_mae))\n",
        "\n",
        "'''val_loss.pop(max_val_loss_index)\n",
        "loss.pop(max_val_loss_index)\n",
        "val_mae.pop(max_val_mae_index)\n",
        "mae.pop(max_val_mae_index)\n",
        "epochs.pop(max_val_mae_index)  # Asumiendo que val_loss y val_mae tienen el mismo índice de época'''\n",
        "\n",
        "'''del val_loss[max_val_loss_index]\n",
        "del loss[max_val_loss_index]\n",
        "del val_mae[max_val_mae_index]\n",
        "del mae[max_val_mae_index]\n",
        "del epochs[max_val_loss_index]'''\n",
        "\n",
        "# Crear las gráficas de pérdida\n",
        "plt.figure(figsize=(12, 5))\n",
        "\n",
        "# Pérdida de entrenamiento y validación\n",
        "plt.subplot(1, 2, 1)\n",
        "plt.plot(epochs, loss, label='Training Loss')\n",
        "plt.plot(epochs, val_loss, label='Validation Loss')\n",
        "plt.xlabel('Epochs')\n",
        "plt.ylabel('Loss')\n",
        "plt.legend()\n",
        "plt.title('Training and Validation Loss')\n",
        "\n",
        "# MAE de entrenamiento y validación\n",
        "plt.subplot(1, 2, 2)\n",
        "plt.plot(epochs, mae, label='Training MAE')\n",
        "plt.plot(epochs, val_mae, label='Validation MAE')\n",
        "plt.xlabel('Epochs')\n",
        "plt.ylabel('MAE')\n",
        "plt.legend()\n",
        "plt.title('Training and Validation MAE')\n",
        "\n",
        "plt.tight_layout()\n",
        "plt.show()\n"
      ]
    },
    {
      "cell_type": "code",
      "execution_count": 22,
      "id": "Fb5wJfr-EHgr",
      "metadata": {
        "id": "Fb5wJfr-EHgr",
        "colab": {
          "base_uri": "https://localhost:8080/",
          "height": 634
        },
        "outputId": "7415ac5f-a356-4fa7-ce09-95c7103452e6"
      },
      "outputs": [
        {
          "output_type": "display_data",
          "data": {
            "text/plain": [
              "<Figure size 1000x700 with 2 Axes>"
            ],
            "image/png": "[encoded data removed]"
          },
          "metadata": {}
        }
      ],
      "source": [
        "from sklearn.metrics import confusion_matrix\n",
        "import seaborn as sns\n",
        "\n",
        "# Calcular la matriz de confusión\n",
        "conf_matrix = confusion_matrix(Y_test, np.round(prediction_val).astype(int))\n",
        "\n",
        "labels = list(subfolder_indices.keys())\n",
        "\n",
        "# Visualizar la matriz de confusión\n",
        "plt.figure(figsize=(10, 7))\n",
        "sns.heatmap(conf_matrix, annot=True, fmt='d', cmap='Blues', xticklabels=labels, yticklabels=labels)\n",
        "\n",
        "plt.xlabel('Predicted Labels')\n",
        "plt.ylabel('True Labels')\n",
        "plt.title('Confusion Matrix')\n",
        "plt.show()"
      ]
    }
  ],
  "metadata": {
    "accelerator": "GPU",
    "colab": {
      "gpuType": "T4",
      "provenance": []
    },
    "kernelspec": {
      "display_name": "Python 3",
      "name": "python3"
    },
    "language_info": {
      "codemirror_mode": {
        "name": "ipython",
        "version": 3
      },
      "file_extension": ".py",
      "mimetype": "text/x-python",
      "name": "python",
      "nbconvert_exporter": "python",
      "pygments_lexer": "ipython3",
      "version": "3.7.10"
    },
    "papermill": {
      "default_parameters": {},
      "duration": 7460.91306,
      "end_time": "2021-06-05T05:26:24.739184",
      "environment_variables": {},
      "exception": null,
      "input_path": "__notebook__.ipynb",
      "output_path": "__notebook__.ipynb",
      "parameters": {},
      "start_time": "2021-06-05T03:22:03.826124",
      "version": "2.3.3"
    }
  },
  "nbformat": 4,
  "nbformat_minor": 5
}