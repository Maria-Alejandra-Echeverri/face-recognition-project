{
  "cells": [
    {
      "cell_type": "code",
      "execution_count": 1,
      "id": "dedicated-bonus",
      "metadata": {
        "_cell_guid": "b1076dfc-b9ad-4769-8c92-a6c4dae69d19",
        "_uuid": "8f2839f25d086af736a60e9eeb907d3b93b6e0e5",
        "execution": {
          "iopub.execute_input": "2021-06-05T03:22:12.065530Z",
          "iopub.status.busy": "2021-06-05T03:22:12.061544Z",
          "iopub.status.idle": "2021-06-05T03:22:18.178924Z",
          "shell.execute_reply": "2021-06-05T03:22:18.177801Z",
          "shell.execute_reply.started": "2021-06-05T03:18:16.397999Z"
        },
        "papermill": {
          "duration": 6.147885,
          "end_time": "2021-06-05T03:22:18.179105",
          "exception": false,
          "start_time": "2021-06-05T03:22:12.031220",
          "status": "completed"
        },
        "tags": [],
        "id": "dedicated-bonus",
        "colab": {
          "base_uri": "https://localhost:8080/"
        },
        "outputId": "b7899e26-e264-4a71-9b68-5ea5155f823f"
      },
      "outputs": [
        {
          "output_type": "stream",
          "name": "stderr",
          "text": [
            "<ipython-input-1-d92b30bbeee9>:9: MatplotlibDeprecationWarning: The seaborn styles shipped by Matplotlib are deprecated since 3.6, as they no longer correspond to the styles shipped by seaborn. However, they will remain available as 'seaborn-v0_8-<style>'. Alternatively, directly use the seaborn API instead.\n",
            "  mpl.style.use(\"seaborn-darkgrid\")\n"
          ]
        }
      ],
      "source": [
        "import numpy as np\n",
        "import pandas as pd\n",
        "import tensorflow as tf\n",
        "import os\n",
        "import cv2\n",
        "import matplotlib.pyplot as plt\n",
        "import matplotlib as mpl\n",
        "\n",
        "mpl.style.use(\"seaborn-darkgrid\")"
      ]
    },
    {
      "cell_type": "code",
      "source": [
        "from google.colab import drive\n",
        "drive.mount('/content/drive')"
      ],
      "metadata": {
        "colab": {
          "base_uri": "https://localhost:8080/"
        },
        "id": "SKq4-R2ir-xF",
        "outputId": "8a1210b0-c890-4e7c-a18a-eb2b89dbe5d6"
      },
      "id": "SKq4-R2ir-xF",
      "execution_count": 2,
      "outputs": [
        {
          "output_type": "stream",
          "name": "stdout",
          "text": [
            "Drive already mounted at /content/drive; to attempt to forcibly remount, call drive.mount(\"/content/drive\", force_remount=True).\n"
          ]
        }
      ]
    },
    {
      "cell_type": "code",
      "execution_count": 3,
      "id": "aging-flight",
      "metadata": {
        "execution": {
          "iopub.execute_input": "2021-06-05T03:22:18.223308Z",
          "iopub.status.busy": "2021-06-05T03:22:18.222222Z",
          "iopub.status.idle": "2021-06-05T03:22:18.225705Z",
          "shell.execute_reply": "2021-06-05T03:22:18.225097Z",
          "shell.execute_reply.started": "2021-06-05T03:18:21.352831Z"
        },
        "papermill": {
          "duration": 0.027043,
          "end_time": "2021-06-05T03:22:18.225827",
          "exception": false,
          "start_time": "2021-06-05T03:22:18.198784",
          "status": "completed"
        },
        "tags": [],
        "id": "aging-flight"
      },
      "outputs": [],
      "source": [
        "from tqdm import tqdm"
      ]
    },
    {
      "cell_type": "code",
      "execution_count": 4,
      "id": "champion-restaurant",
      "metadata": {
        "execution": {
          "iopub.execute_input": "2021-06-05T03:22:18.268073Z",
          "iopub.status.busy": "2021-06-05T03:22:18.267269Z",
          "iopub.status.idle": "2021-06-05T03:22:18.285458Z",
          "shell.execute_reply": "2021-06-05T03:22:18.286056Z",
          "shell.execute_reply.started": "2021-06-05T03:18:21.362337Z"
        },
        "papermill": {
          "duration": 0.041451,
          "end_time": "2021-06-05T03:22:18.286199",
          "exception": false,
          "start_time": "2021-06-05T03:22:18.244748",
          "status": "completed"
        },
        "tags": [],
        "id": "champion-restaurant",
        "outputId": "27abe2dc-760f-47bb-d8a7-8ac565c88619",
        "colab": {
          "base_uri": "https://localhost:8080/"
        }
      },
      "outputs": [
        {
          "output_type": "execute_result",
          "data": {
            "text/plain": [
              "['Aleja', 'Dayana', 'AlejaS', 'fabian', 'profe', 'jorge']"
            ]
          },
          "metadata": {},
          "execution_count": 4
        }
      ],
      "source": [
        "files=os.listdir(\"/content/drive/MyDrive/db_photos\")\n",
        "files"
      ]
    },
    {
      "cell_type": "code",
      "source": [
        "image_array = []\n",
        "label_array = []\n",
        "path = \"/content/drive/MyDrive/db_photos/\"\n",
        "\n",
        "# Diccionario para almacenar la asignación de subcarpetas a índices\n",
        "subfolder_indices = {}\n",
        "\n",
        "# loop through each sub-folder in train\n",
        "for i in range(len(files)):\n",
        "    # Guardar el nombre de la subcarpeta con su índice\n",
        "    subfolder_indices[files[i]] = i\n",
        "\n",
        "    # files in sub-folder\n",
        "    file_sub = os.listdir(path + files[i])\n",
        "\n",
        "    for k in tqdm(range(len(file_sub))):\n",
        "        try:\n",
        "            img = cv2.imread(path + files[i] + \"/\" + file_sub[k])\n",
        "            img = cv2.cvtColor(img, cv2.COLOR_BGR2RGB)\n",
        "            img = cv2.resize(img, (96, 96))\n",
        "            image_array.append(img)\n",
        "            label_array.append(i)\n",
        "        except:\n",
        "            pass\n",
        "\n",
        "# Mostrar las asignaciones de subcarpetas a índices\n",
        "for subfolder, index in subfolder_indices.items():\n",
        "    print(f\"Subcarpeta: {subfolder}, Índice: {index}\")\n"
      ],
      "metadata": {
        "colab": {
          "base_uri": "https://localhost:8080/"
        },
        "id": "fYt1YqHBFF5t",
        "outputId": "f3f97080-e573-487f-c1e2-657ae53ba06d"
      },
      "id": "fYt1YqHBFF5t",
      "execution_count": 33,
      "outputs": [
        {
          "output_type": "stream",
          "name": "stderr",
          "text": [
            "100%|██████████| 100/100 [00:12<00:00,  8.14it/s]\n",
            "100%|██████████| 99/99 [00:22<00:00,  4.37it/s]\n",
            "100%|██████████| 100/100 [00:09<00:00, 10.92it/s]\n",
            "100%|██████████| 104/104 [00:05<00:00, 18.46it/s]\n",
            "100%|██████████| 70/70 [00:03<00:00, 19.33it/s]\n",
            "100%|██████████| 99/99 [00:06<00:00, 14.94it/s]"
          ]
        },
        {
          "output_type": "stream",
          "name": "stdout",
          "text": [
            "Subcarpeta: Aleja, Índice: 0\n",
            "Subcarpeta: Dayana, Índice: 1\n",
            "Subcarpeta: AlejaS, Índice: 2\n",
            "Subcarpeta: fabian, Índice: 3\n",
            "Subcarpeta: profe, Índice: 4\n",
            "Subcarpeta: jorge, Índice: 5\n"
          ]
        },
        {
          "output_type": "stream",
          "name": "stderr",
          "text": [
            "\n"
          ]
        }
      ]
    },
    {
      "cell_type": "code",
      "execution_count": 6,
      "id": "geological-jurisdiction",
      "metadata": {
        "execution": {
          "iopub.execute_input": "2021-06-05T03:24:13.404845Z",
          "iopub.status.busy": "2021-06-05T03:24:13.402625Z",
          "iopub.status.idle": "2021-06-05T03:24:13.408655Z",
          "shell.execute_reply": "2021-06-05T03:24:13.409184Z",
          "shell.execute_reply.started": "2021-06-05T03:20:09.449604Z"
        },
        "papermill": {
          "duration": 0.522671,
          "end_time": "2021-06-05T03:24:13.409355",
          "exception": false,
          "start_time": "2021-06-05T03:24:12.886684",
          "status": "completed"
        },
        "tags": [],
        "id": "geological-jurisdiction",
        "outputId": "62fa3687-bf63-43c7-dfac-9e01a2aa3929",
        "colab": {
          "base_uri": "https://localhost:8080/"
        }
      },
      "outputs": [
        {
          "output_type": "execute_result",
          "data": {
            "text/plain": [
              "20"
            ]
          },
          "metadata": {},
          "execution_count": 6
        }
      ],
      "source": [
        "import gc\n",
        "gc.collect()"
      ]
    },
    {
      "cell_type": "code",
      "execution_count": 7,
      "id": "civic-acting",
      "metadata": {
        "execution": {
          "iopub.execute_input": "2021-06-05T03:24:14.144759Z",
          "iopub.status.busy": "2021-06-05T03:24:14.143204Z",
          "iopub.status.idle": "2021-06-05T03:24:16.059309Z",
          "shell.execute_reply": "2021-06-05T03:24:16.058754Z",
          "shell.execute_reply.started": "2021-06-05T03:20:09.623662Z"
        },
        "papermill": {
          "duration": 2.284691,
          "end_time": "2021-06-05T03:24:16.059458",
          "exception": false,
          "start_time": "2021-06-05T03:24:13.774767",
          "status": "completed"
        },
        "tags": [],
        "id": "civic-acting"
      },
      "outputs": [],
      "source": [
        "image_array=np.array(image_array)/255.0\n",
        "label_array=np.array(label_array)"
      ]
    },
    {
      "cell_type": "code",
      "execution_count": 8,
      "id": "previous-inspiration",
      "metadata": {
        "execution": {
          "iopub.execute_input": "2021-06-05T03:24:16.783899Z",
          "iopub.status.busy": "2021-06-05T03:24:16.782974Z",
          "iopub.status.idle": "2021-06-05T03:24:18.752501Z",
          "shell.execute_reply": "2021-06-05T03:24:18.751484Z",
          "shell.execute_reply.started": "2021-06-05T03:20:10.841955Z"
        },
        "papermill": {
          "duration": 2.338744,
          "end_time": "2021-06-05T03:24:18.752684",
          "exception": false,
          "start_time": "2021-06-05T03:24:16.413940",
          "status": "completed"
        },
        "tags": [],
        "id": "previous-inspiration"
      },
      "outputs": [],
      "source": [
        "from sklearn.model_selection import train_test_split\n",
        "X_train,X_test,Y_train,Y_test=train_test_split(image_array,label_array,test_size=0.15)"
      ]
    },
    {
      "cell_type": "code",
      "execution_count": 9,
      "id": "million-latex",
      "metadata": {
        "execution": {
          "iopub.execute_input": "2021-06-05T03:24:19.477901Z",
          "iopub.status.busy": "2021-06-05T03:24:19.476954Z",
          "iopub.status.idle": "2021-06-05T03:24:19.545089Z",
          "shell.execute_reply": "2021-06-05T03:24:19.545553Z",
          "shell.execute_reply.started": "2021-06-05T03:20:12.339426Z"
        },
        "papermill": {
          "duration": 0.433513,
          "end_time": "2021-06-05T03:24:19.545837",
          "exception": false,
          "start_time": "2021-06-05T03:24:19.112324",
          "status": "completed"
        },
        "tags": [],
        "id": "million-latex"
      },
      "outputs": [],
      "source": [
        "from keras import layers,callbacks,utils,applications,optimizers\n",
        "from keras.models import Sequential,Model,load_model"
      ]
    },
    {
      "cell_type": "code",
      "execution_count": 10,
      "id": "polished-scroll",
      "metadata": {
        "execution": {
          "iopub.execute_input": "2021-06-05T03:24:20.421745Z",
          "iopub.status.busy": "2021-06-05T03:24:20.420537Z",
          "iopub.status.idle": "2021-06-05T03:24:20.424401Z",
          "shell.execute_reply": "2021-06-05T03:24:20.425262Z",
          "shell.execute_reply.started": "2021-06-05T03:20:12.389027Z"
        },
        "papermill": {
          "duration": 0.526558,
          "end_time": "2021-06-05T03:24:20.425521",
          "exception": false,
          "start_time": "2021-06-05T03:24:19.898963",
          "status": "completed"
        },
        "tags": [],
        "id": "polished-scroll",
        "outputId": "f3a41dbd-5d11-4c4a-f398-e738e042ef52",
        "colab": {
          "base_uri": "https://localhost:8080/"
        }
      },
      "outputs": [
        {
          "output_type": "execute_result",
          "data": {
            "text/plain": [
              "6"
            ]
          },
          "metadata": {},
          "execution_count": 10
        }
      ],
      "source": [
        "len(files) #6 persona"
      ]
    },
    {
      "cell_type": "code",
      "execution_count": 11,
      "id": "frank-australian",
      "metadata": {
        "execution": {
          "iopub.execute_input": "2021-06-05T03:24:21.667465Z",
          "iopub.status.busy": "2021-06-05T03:24:21.666245Z",
          "iopub.status.idle": "2021-06-05T03:24:28.013896Z",
          "shell.execute_reply": "2021-06-05T03:24:28.012782Z",
          "shell.execute_reply.started": "2021-06-05T03:20:12.396428Z"
        },
        "papermill": {
          "duration": 6.929345,
          "end_time": "2021-06-05T03:24:28.014100",
          "exception": false,
          "start_time": "2021-06-05T03:24:21.084755",
          "status": "completed"
        },
        "tags": [],
        "id": "frank-australian",
        "outputId": "6767a7cc-7374-4af8-9c38-134926588b5a",
        "colab": {
          "base_uri": "https://localhost:8080/"
        }
      },
      "outputs": [
        {
          "output_type": "stream",
          "name": "stdout",
          "text": [
            "Model: \"sequential\"\n",
            "_________________________________________________________________\n",
            " Layer (type)                Output Shape              Param #   \n",
            "=================================================================\n",
            " efficientnetb0 (Functional  (None, 3, 3, 1280)        4049571   \n",
            " )                                                               \n",
            "                                                                 \n",
            " global_average_pooling2d (  (None, 1280)              0         \n",
            " GlobalAveragePooling2D)                                         \n",
            "                                                                 \n",
            " dropout (Dropout)           (None, 1280)              0         \n",
            "                                                                 \n",
            " dense (Dense)               (None, 1)                 1281      \n",
            "                                                                 \n",
            "=================================================================\n",
            "Total params: 4050852 (15.45 MB)\n",
            "Trainable params: 4008829 (15.29 MB)\n",
            "Non-trainable params: 42023 (164.16 KB)\n",
            "_________________________________________________________________\n"
          ]
        }
      ],
      "source": [
        "model=Sequential()\n",
        "# I will use MobileNetV2 as an pretrained model\n",
        "pretrained_model=tf.keras.applications.EfficientNetB0(input_shape=(96,96,3),include_top=False,\n",
        "                                         weights=\"imagenet\")\n",
        "model.add(pretrained_model)\n",
        "model.add(layers.GlobalAveragePooling2D())\n",
        "# add dropout to increase accuracy by not overfitting\n",
        "model.add(layers.Dropout(0.3))\n",
        "# add dense layer as final output\n",
        "model.add(layers.Dense(1))\n",
        "model.summary()"
      ]
    },
    {
      "cell_type": "code",
      "execution_count": 12,
      "id": "answering-crack",
      "metadata": {
        "execution": {
          "iopub.execute_input": "2021-06-05T03:24:28.757073Z",
          "iopub.status.busy": "2021-06-05T03:24:28.756253Z",
          "iopub.status.idle": "2021-06-05T03:24:28.766367Z",
          "shell.execute_reply": "2021-06-05T03:24:28.765810Z",
          "shell.execute_reply.started": "2021-06-05T03:20:16.672770Z"
        },
        "papermill": {
          "duration": 0.390435,
          "end_time": "2021-06-05T03:24:28.766518",
          "exception": false,
          "start_time": "2021-06-05T03:24:28.376083",
          "status": "completed"
        },
        "tags": [],
        "id": "answering-crack"
      },
      "outputs": [],
      "source": [
        "model.compile(optimizer=\"adam\",loss=\"mean_squared_error\",metrics=[\"mae\"])"
      ]
    },
    {
      "cell_type": "code",
      "execution_count": 13,
      "id": "loving-notification",
      "metadata": {
        "execution": {
          "iopub.execute_input": "2021-06-05T03:24:29.539020Z",
          "iopub.status.busy": "2021-06-05T03:24:29.538375Z",
          "iopub.status.idle": "2021-06-05T03:24:29.542868Z",
          "shell.execute_reply": "2021-06-05T03:24:29.542311Z",
          "shell.execute_reply.started": "2021-06-05T03:20:16.692591Z"
        },
        "papermill": {
          "duration": 0.409989,
          "end_time": "2021-06-05T03:24:29.543019",
          "exception": false,
          "start_time": "2021-06-05T03:24:29.133030",
          "status": "completed"
        },
        "tags": [],
        "id": "loving-notification"
      },
      "outputs": [],
      "source": [
        "# creating a chechpoint to save model at best accuarcy\n",
        "\n",
        "ckp_path=\"trained_model/model\"\n",
        "model_checkpoint=tf.keras.callbacks.ModelCheckpoint(filepath=ckp_path,\n",
        "                                                   monitor=\"val_mae\",\n",
        "                                                   mode=\"auto\",\n",
        "                                                   save_best_only=True,\n",
        "                                                   save_weights_only=True)"
      ]
    },
    {
      "cell_type": "code",
      "execution_count": 14,
      "id": "tamil-england",
      "metadata": {
        "execution": {
          "iopub.execute_input": "2021-06-05T03:24:30.999148Z",
          "iopub.status.busy": "2021-06-05T03:24:30.998188Z",
          "iopub.status.idle": "2021-06-05T03:24:31.003517Z",
          "shell.execute_reply": "2021-06-05T03:24:31.002882Z",
          "shell.execute_reply.started": "2021-06-05T03:20:16.699241Z"
        },
        "papermill": {
          "duration": 0.377895,
          "end_time": "2021-06-05T03:24:31.003668",
          "exception": false,
          "start_time": "2021-06-05T03:24:30.625773",
          "status": "completed"
        },
        "tags": [],
        "id": "tamil-england"
      },
      "outputs": [],
      "source": [
        "# create a lr reducer which decrease learning rate when accuarcy does not increase\n",
        "reduce_lr=tf.keras.callbacks.ReduceLROnPlateau(factor=0.9,monitor=\"val_mae\",\n",
        "                                             mode=\"auto\",cooldown=0,\n",
        "                                             patience=5,verbose=1,min_lr=1e-6)\n",
        "# patience : wait till 5 epoch\n",
        "# verbose : show accuracy every 1 epoch\n",
        "# min_lr=minimum learning rate\n",
        "#"
      ]
    },
    {
      "cell_type": "code",
      "execution_count": 15,
      "id": "convertible-marina",
      "metadata": {
        "execution": {
          "iopub.execute_input": "2021-06-05T03:24:32.494849Z",
          "iopub.status.busy": "2021-06-05T03:24:32.494020Z",
          "iopub.status.idle": "2021-06-05T05:19:51.026735Z",
          "shell.execute_reply": "2021-06-05T05:19:51.026132Z"
        },
        "papermill": {
          "duration": 6918.90737,
          "end_time": "2021-06-05T05:19:51.026880",
          "exception": false,
          "start_time": "2021-06-05T03:24:32.119510",
          "status": "completed"
        },
        "tags": [],
        "id": "convertible-marina",
        "outputId": "56726217-a5e5-41da-d4e8-06d0a3b68982",
        "colab": {
          "base_uri": "https://localhost:8080/"
        }
      },
      "outputs": [
        {
          "output_type": "stream",
          "name": "stdout",
          "text": [
            "Epoch 1/100\n",
            "31/31 [==============================] - 66s 1s/step - loss: 2.6380 - mae: 1.2434 - val_loss: 13.8633 - val_mae: 3.3012 - lr: 0.0010\n",
            "Epoch 2/100\n",
            "31/31 [==============================] - 29s 932ms/step - loss: 0.8135 - mae: 0.7024 - val_loss: 11.2600 - val_mae: 2.8764 - lr: 0.0010\n",
            "Epoch 3/100\n",
            "31/31 [==============================] - 30s 957ms/step - loss: 0.4919 - mae: 0.5613 - val_loss: 9.1750 - val_mae: 2.4859 - lr: 0.0010\n",
            "Epoch 4/100\n",
            "31/31 [==============================] - 29s 944ms/step - loss: 0.4389 - mae: 0.5305 - val_loss: 7.9358 - val_mae: 2.2592 - lr: 0.0010\n",
            "Epoch 5/100\n",
            "31/31 [==============================] - 27s 889ms/step - loss: 0.3540 - mae: 0.4727 - val_loss: 7.1738 - val_mae: 2.1429 - lr: 0.0010\n",
            "Epoch 6/100\n",
            "31/31 [==============================] - 27s 841ms/step - loss: 0.2817 - mae: 0.4272 - val_loss: 6.1707 - val_mae: 1.9744 - lr: 0.0010\n",
            "Epoch 7/100\n",
            "31/31 [==============================] - 28s 902ms/step - loss: 0.1913 - mae: 0.3444 - val_loss: 6.3785 - val_mae: 2.0411 - lr: 0.0010\n",
            "Epoch 8/100\n",
            "31/31 [==============================] - 29s 939ms/step - loss: 0.1865 - mae: 0.3378 - val_loss: 5.2878 - val_mae: 1.8090 - lr: 0.0010\n",
            "Epoch 9/100\n",
            "31/31 [==============================] - 28s 914ms/step - loss: 0.1753 - mae: 0.3245 - val_loss: 5.4205 - val_mae: 1.8355 - lr: 0.0010\n",
            "Epoch 10/100\n",
            "31/31 [==============================] - 25s 804ms/step - loss: 0.1486 - mae: 0.3028 - val_loss: 5.2927 - val_mae: 1.8109 - lr: 0.0010\n",
            "Epoch 11/100\n",
            "31/31 [==============================] - 30s 968ms/step - loss: 0.1530 - mae: 0.3055 - val_loss: 5.9128 - val_mae: 1.9102 - lr: 0.0010\n",
            "Epoch 12/100\n",
            "31/31 [==============================] - 27s 891ms/step - loss: 0.1544 - mae: 0.3133 - val_loss: 5.4268 - val_mae: 1.8348 - lr: 0.0010\n",
            "Epoch 13/100\n",
            "31/31 [==============================] - ETA: 0s - loss: 0.1416 - mae: 0.2952\n",
            "Epoch 13: ReduceLROnPlateau reducing learning rate to 0.0009000000427477062.\n",
            "31/31 [==============================] - 29s 928ms/step - loss: 0.1416 - mae: 0.2952 - val_loss: 5.3947 - val_mae: 1.8212 - lr: 0.0010\n",
            "Epoch 14/100\n",
            "31/31 [==============================] - 30s 988ms/step - loss: 0.1621 - mae: 0.3211 - val_loss: 4.5576 - val_mae: 1.6832 - lr: 9.0000e-04\n",
            "Epoch 15/100\n",
            "31/31 [==============================] - 31s 1s/step - loss: 0.1053 - mae: 0.2538 - val_loss: 3.1005 - val_mae: 1.4011 - lr: 9.0000e-04\n",
            "Epoch 16/100\n",
            "31/31 [==============================] - 29s 958ms/step - loss: 0.0928 - mae: 0.2380 - val_loss: 5.0114 - val_mae: 1.7424 - lr: 9.0000e-04\n",
            "Epoch 17/100\n",
            "31/31 [==============================] - 29s 925ms/step - loss: 0.0805 - mae: 0.2222 - val_loss: 4.5010 - val_mae: 1.6970 - lr: 9.0000e-04\n",
            "Epoch 18/100\n",
            "31/31 [==============================] - 27s 852ms/step - loss: 0.0772 - mae: 0.2200 - val_loss: 3.9721 - val_mae: 1.5794 - lr: 9.0000e-04\n",
            "Epoch 19/100\n",
            "31/31 [==============================] - 31s 1s/step - loss: 0.0930 - mae: 0.2385 - val_loss: 4.6412 - val_mae: 1.6915 - lr: 9.0000e-04\n",
            "Epoch 20/100\n",
            "31/31 [==============================] - ETA: 0s - loss: 0.0629 - mae: 0.1919\n",
            "Epoch 20: ReduceLROnPlateau reducing learning rate to 0.0008100000384729356.\n",
            "31/31 [==============================] - 28s 894ms/step - loss: 0.0629 - mae: 0.1919 - val_loss: 3.6162 - val_mae: 1.5423 - lr: 9.0000e-04\n",
            "Epoch 21/100\n",
            "31/31 [==============================] - 30s 973ms/step - loss: 0.0760 - mae: 0.2137 - val_loss: 3.1443 - val_mae: 1.4338 - lr: 8.1000e-04\n",
            "Epoch 22/100\n",
            "31/31 [==============================] - 31s 1s/step - loss: 0.0531 - mae: 0.1790 - val_loss: 4.6571 - val_mae: 1.6942 - lr: 8.1000e-04\n",
            "Epoch 23/100\n",
            "31/31 [==============================] - 29s 947ms/step - loss: 0.0587 - mae: 0.1908 - val_loss: 4.5233 - val_mae: 1.6961 - lr: 8.1000e-04\n",
            "Epoch 24/100\n",
            "31/31 [==============================] - 30s 978ms/step - loss: 0.0563 - mae: 0.1859 - val_loss: 5.8029 - val_mae: 1.8922 - lr: 8.1000e-04\n",
            "Epoch 25/100\n",
            "31/31 [==============================] - ETA: 0s - loss: 0.0699 - mae: 0.2034\n",
            "Epoch 25: ReduceLROnPlateau reducing learning rate to 0.0007290000503417104.\n",
            "31/31 [==============================] - 30s 964ms/step - loss: 0.0699 - mae: 0.2034 - val_loss: 6.2218 - val_mae: 1.9335 - lr: 8.1000e-04\n",
            "Epoch 26/100\n",
            "31/31 [==============================] - 28s 920ms/step - loss: 0.0566 - mae: 0.1880 - val_loss: 4.7255 - val_mae: 1.6803 - lr: 7.2900e-04\n",
            "Epoch 27/100\n",
            "31/31 [==============================] - 29s 938ms/step - loss: 0.0440 - mae: 0.1666 - val_loss: 3.6954 - val_mae: 1.5157 - lr: 7.2900e-04\n",
            "Epoch 28/100\n",
            "31/31 [==============================] - 30s 959ms/step - loss: 0.0491 - mae: 0.1737 - val_loss: 3.2995 - val_mae: 1.4320 - lr: 7.2900e-04\n",
            "Epoch 29/100\n",
            "31/31 [==============================] - 31s 984ms/step - loss: 0.0473 - mae: 0.1712 - val_loss: 4.5703 - val_mae: 1.6818 - lr: 7.2900e-04\n",
            "Epoch 30/100\n",
            "31/31 [==============================] - ETA: 0s - loss: 0.0662 - mae: 0.1978\n",
            "Epoch 30: ReduceLROnPlateau reducing learning rate to 0.0006561000715009868.\n",
            "31/31 [==============================] - 31s 981ms/step - loss: 0.0662 - mae: 0.1978 - val_loss: 4.2699 - val_mae: 1.6149 - lr: 7.2900e-04\n",
            "Epoch 31/100\n",
            "31/31 [==============================] - 31s 987ms/step - loss: 0.0414 - mae: 0.1600 - val_loss: 2.1119 - val_mae: 1.1709 - lr: 6.5610e-04\n",
            "Epoch 32/100\n",
            "31/31 [==============================] - 31s 996ms/step - loss: 0.0516 - mae: 0.1794 - val_loss: 2.0141 - val_mae: 1.1656 - lr: 6.5610e-04\n",
            "Epoch 33/100\n",
            "31/31 [==============================] - 31s 992ms/step - loss: 0.0375 - mae: 0.1534 - val_loss: 5.1375 - val_mae: 1.7870 - lr: 6.5610e-04\n",
            "Epoch 34/100\n",
            "31/31 [==============================] - 30s 987ms/step - loss: 0.0412 - mae: 0.1607 - val_loss: 6.0259 - val_mae: 1.9040 - lr: 6.5610e-04\n",
            "Epoch 35/100\n",
            "31/31 [==============================] - 30s 987ms/step - loss: 0.0425 - mae: 0.1647 - val_loss: 0.3849 - val_mae: 0.5323 - lr: 6.5610e-04\n",
            "Epoch 36/100\n",
            "31/31 [==============================] - 29s 946ms/step - loss: 0.0468 - mae: 0.1707 - val_loss: 1.5324 - val_mae: 1.0242 - lr: 6.5610e-04\n",
            "Epoch 37/100\n",
            "31/31 [==============================] - 29s 928ms/step - loss: 0.0349 - mae: 0.1481 - val_loss: 1.8448 - val_mae: 1.1460 - lr: 6.5610e-04\n",
            "Epoch 38/100\n",
            "31/31 [==============================] - 28s 922ms/step - loss: 0.0342 - mae: 0.1470 - val_loss: 1.6303 - val_mae: 1.0668 - lr: 6.5610e-04\n",
            "Epoch 39/100\n",
            "31/31 [==============================] - 28s 902ms/step - loss: 0.0365 - mae: 0.1514 - val_loss: 1.0158 - val_mae: 0.8321 - lr: 6.5610e-04\n",
            "Epoch 40/100\n",
            "31/31 [==============================] - ETA: 0s - loss: 0.0328 - mae: 0.1429\n",
            "Epoch 40: ReduceLROnPlateau reducing learning rate to 0.0005904900433961303.\n",
            "31/31 [==============================] - 28s 904ms/step - loss: 0.0328 - mae: 0.1429 - val_loss: 0.6811 - val_mae: 0.6918 - lr: 6.5610e-04\n",
            "Epoch 41/100\n",
            "31/31 [==============================] - 30s 985ms/step - loss: 0.0361 - mae: 0.1514 - val_loss: 3.8851 - val_mae: 1.5666 - lr: 5.9049e-04\n",
            "Epoch 42/100\n",
            "31/31 [==============================] - 30s 966ms/step - loss: 0.0295 - mae: 0.1346 - val_loss: 4.1314 - val_mae: 1.5984 - lr: 5.9049e-04\n",
            "Epoch 43/100\n",
            "31/31 [==============================] - 29s 944ms/step - loss: 0.0336 - mae: 0.1433 - val_loss: 2.1874 - val_mae: 1.1924 - lr: 5.9049e-04\n",
            "Epoch 44/100\n",
            "31/31 [==============================] - 29s 947ms/step - loss: 0.0260 - mae: 0.1286 - val_loss: 2.6843 - val_mae: 1.3043 - lr: 5.9049e-04\n",
            "Epoch 45/100\n",
            "31/31 [==============================] - ETA: 0s - loss: 0.0260 - mae: 0.1261\n",
            "Epoch 45: ReduceLROnPlateau reducing learning rate to 0.0005314410547725857.\n",
            "31/31 [==============================] - 31s 993ms/step - loss: 0.0260 - mae: 0.1261 - val_loss: 4.6803 - val_mae: 1.6549 - lr: 5.9049e-04\n",
            "Epoch 46/100\n",
            "31/31 [==============================] - 30s 972ms/step - loss: 0.0275 - mae: 0.1293 - val_loss: 0.7319 - val_mae: 0.7362 - lr: 5.3144e-04\n",
            "Epoch 47/100\n",
            "31/31 [==============================] - 29s 938ms/step - loss: 0.0251 - mae: 0.1230 - val_loss: 3.6551 - val_mae: 1.5234 - lr: 5.3144e-04\n",
            "Epoch 48/100\n",
            "31/31 [==============================] - 29s 938ms/step - loss: 0.0269 - mae: 0.1288 - val_loss: 5.1602 - val_mae: 1.7646 - lr: 5.3144e-04\n",
            "Epoch 49/100\n",
            "31/31 [==============================] - 28s 890ms/step - loss: 0.0333 - mae: 0.1438 - val_loss: 5.2514 - val_mae: 1.7754 - lr: 5.3144e-04\n",
            "Epoch 50/100\n",
            "31/31 [==============================] - ETA: 0s - loss: 0.0276 - mae: 0.1302\n",
            "Epoch 50: ReduceLROnPlateau reducing learning rate to 0.00047829695977270604.\n",
            "31/31 [==============================] - 28s 893ms/step - loss: 0.0276 - mae: 0.1302 - val_loss: 1.0236 - val_mae: 0.8973 - lr: 5.3144e-04\n",
            "Epoch 51/100\n",
            "31/31 [==============================] - 31s 997ms/step - loss: 0.0249 - mae: 0.1232 - val_loss: 5.9326 - val_mae: 1.9497 - lr: 4.7830e-04\n",
            "Epoch 52/100\n",
            "31/31 [==============================] - 31s 992ms/step - loss: 0.0231 - mae: 0.1201 - val_loss: 3.1679 - val_mae: 1.4281 - lr: 4.7830e-04\n",
            "Epoch 53/100\n",
            "31/31 [==============================] - 31s 999ms/step - loss: 0.0235 - mae: 0.1219 - val_loss: 0.1795 - val_mae: 0.2713 - lr: 4.7830e-04\n",
            "Epoch 54/100\n",
            "31/31 [==============================] - 31s 1s/step - loss: 0.0236 - mae: 0.1225 - val_loss: 3.4042 - val_mae: 1.4983 - lr: 4.7830e-04\n",
            "Epoch 55/100\n",
            "31/31 [==============================] - 31s 993ms/step - loss: 0.0327 - mae: 0.1362 - val_loss: 3.9444 - val_mae: 1.5620 - lr: 4.7830e-04\n",
            "Epoch 56/100\n",
            "31/31 [==============================] - 30s 985ms/step - loss: 0.0242 - mae: 0.1208 - val_loss: 1.8734 - val_mae: 1.1165 - lr: 4.7830e-04\n",
            "Epoch 57/100\n",
            "31/31 [==============================] - 31s 1s/step - loss: 0.0259 - mae: 0.1270 - val_loss: 0.5857 - val_mae: 0.6581 - lr: 4.7830e-04\n",
            "Epoch 58/100\n",
            "31/31 [==============================] - ETA: 0s - loss: 0.0220 - mae: 0.1165\n",
            "Epoch 58: ReduceLROnPlateau reducing learning rate to 0.0004304672533180565.\n",
            "31/31 [==============================] - 30s 970ms/step - loss: 0.0220 - mae: 0.1165 - val_loss: 1.9067 - val_mae: 1.1453 - lr: 4.7830e-04\n",
            "Epoch 59/100\n",
            "31/31 [==============================] - 30s 990ms/step - loss: 0.0260 - mae: 0.1280 - val_loss: 1.8882 - val_mae: 1.1325 - lr: 4.3047e-04\n",
            "Epoch 60/100\n",
            "31/31 [==============================] - 31s 992ms/step - loss: 0.0208 - mae: 0.1125 - val_loss: 4.1415 - val_mae: 1.5807 - lr: 4.3047e-04\n",
            "Epoch 61/100\n",
            "31/31 [==============================] - 29s 945ms/step - loss: 0.0215 - mae: 0.1161 - val_loss: 1.0199 - val_mae: 0.8367 - lr: 4.3047e-04\n",
            "Epoch 62/100\n",
            "31/31 [==============================] - 32s 1s/step - loss: 0.0224 - mae: 0.1184 - val_loss: 1.4375 - val_mae: 1.0073 - lr: 4.3047e-04\n",
            "Epoch 63/100\n",
            "31/31 [==============================] - ETA: 0s - loss: 0.0213 - mae: 0.1101\n",
            "Epoch 63: ReduceLROnPlateau reducing learning rate to 0.00038742052274756136.\n",
            "31/31 [==============================] - 26s 837ms/step - loss: 0.0213 - mae: 0.1101 - val_loss: 4.9501 - val_mae: 1.7673 - lr: 4.3047e-04\n",
            "Epoch 64/100\n",
            "31/31 [==============================] - 28s 910ms/step - loss: 0.0240 - mae: 0.1195 - val_loss: 1.8022 - val_mae: 1.1301 - lr: 3.8742e-04\n",
            "Epoch 65/100\n",
            "31/31 [==============================] - 29s 930ms/step - loss: 0.0231 - mae: 0.1182 - val_loss: 2.1293 - val_mae: 1.1999 - lr: 3.8742e-04\n",
            "Epoch 66/100\n",
            "31/31 [==============================] - 31s 994ms/step - loss: 0.0214 - mae: 0.1152 - val_loss: 0.5578 - val_mae: 0.6412 - lr: 3.8742e-04\n",
            "Epoch 67/100\n",
            "31/31 [==============================] - 30s 981ms/step - loss: 0.0194 - mae: 0.1095 - val_loss: 0.5091 - val_mae: 0.6159 - lr: 3.8742e-04\n",
            "Epoch 68/100\n",
            "31/31 [==============================] - ETA: 0s - loss: 0.0268 - mae: 0.1270\n",
            "Epoch 68: ReduceLROnPlateau reducing learning rate to 0.0003486784757114947.\n",
            "31/31 [==============================] - 31s 989ms/step - loss: 0.0268 - mae: 0.1270 - val_loss: 0.5018 - val_mae: 0.6091 - lr: 3.8742e-04\n",
            "Epoch 69/100\n",
            "31/31 [==============================] - 31s 998ms/step - loss: 0.0215 - mae: 0.1131 - val_loss: 0.4568 - val_mae: 0.5815 - lr: 3.4868e-04\n",
            "Epoch 70/100\n",
            "31/31 [==============================] - 31s 991ms/step - loss: 0.0228 - mae: 0.1178 - val_loss: 0.4738 - val_mae: 0.5593 - lr: 3.4868e-04\n",
            "Epoch 71/100\n",
            "31/31 [==============================] - 31s 1s/step - loss: 0.0192 - mae: 0.1087 - val_loss: 0.2078 - val_mae: 0.2647 - lr: 3.4868e-04\n",
            "Epoch 72/100\n",
            "31/31 [==============================] - 29s 944ms/step - loss: 0.0216 - mae: 0.1160 - val_loss: 0.3159 - val_mae: 0.4697 - lr: 3.4868e-04\n",
            "Epoch 73/100\n",
            "31/31 [==============================] - 30s 952ms/step - loss: 0.0190 - mae: 0.1095 - val_loss: 1.7480 - val_mae: 1.1555 - lr: 3.4868e-04\n",
            "Epoch 74/100\n",
            "31/31 [==============================] - 30s 954ms/step - loss: 0.0236 - mae: 0.1186 - val_loss: 3.3303 - val_mae: 1.4483 - lr: 3.4868e-04\n",
            "Epoch 75/100\n",
            "31/31 [==============================] - 29s 931ms/step - loss: 0.0189 - mae: 0.1091 - val_loss: 2.5386 - val_mae: 1.2905 - lr: 3.4868e-04\n",
            "Epoch 76/100\n",
            "31/31 [==============================] - ETA: 0s - loss: 0.0184 - mae: 0.1064\n",
            "Epoch 76: ReduceLROnPlateau reducing learning rate to 0.00031381062290165574.\n",
            "31/31 [==============================] - 30s 972ms/step - loss: 0.0184 - mae: 0.1064 - val_loss: 2.9332 - val_mae: 1.3830 - lr: 3.4868e-04\n",
            "Epoch 77/100\n",
            "31/31 [==============================] - 30s 964ms/step - loss: 0.0170 - mae: 0.1047 - val_loss: 0.5473 - val_mae: 0.6459 - lr: 3.1381e-04\n",
            "Epoch 78/100\n",
            "31/31 [==============================] - 29s 940ms/step - loss: 0.0140 - mae: 0.0927 - val_loss: 0.2359 - val_mae: 0.3641 - lr: 3.1381e-04\n",
            "Epoch 79/100\n",
            "31/31 [==============================] - 29s 942ms/step - loss: 0.0153 - mae: 0.0970 - val_loss: 0.3378 - val_mae: 0.4729 - lr: 3.1381e-04\n",
            "Epoch 80/100\n",
            "31/31 [==============================] - 30s 980ms/step - loss: 0.0182 - mae: 0.1052 - val_loss: 0.5757 - val_mae: 0.6533 - lr: 3.1381e-04\n",
            "Epoch 81/100\n",
            "31/31 [==============================] - ETA: 0s - loss: 0.0200 - mae: 0.1125\n",
            "Epoch 81: ReduceLROnPlateau reducing learning rate to 0.0002824295632308349.\n",
            "31/31 [==============================] - 31s 1s/step - loss: 0.0200 - mae: 0.1125 - val_loss: 0.2067 - val_mae: 0.2736 - lr: 3.1381e-04\n",
            "Epoch 82/100\n",
            "31/31 [==============================] - 31s 1s/step - loss: 0.0166 - mae: 0.1010 - val_loss: 0.2087 - val_mae: 0.2720 - lr: 2.8243e-04\n",
            "Epoch 83/100\n",
            "31/31 [==============================] - 30s 963ms/step - loss: 0.0183 - mae: 0.1070 - val_loss: 0.2754 - val_mae: 0.4134 - lr: 2.8243e-04\n",
            "Epoch 84/100\n",
            "31/31 [==============================] - 28s 921ms/step - loss: 0.0152 - mae: 0.0995 - val_loss: 0.1864 - val_mae: 0.3029 - lr: 2.8243e-04\n",
            "Epoch 85/100\n",
            "31/31 [==============================] - 28s 895ms/step - loss: 0.0176 - mae: 0.1053 - val_loss: 0.5227 - val_mae: 0.6127 - lr: 2.8243e-04\n",
            "Epoch 86/100\n",
            "31/31 [==============================] - ETA: 0s - loss: 0.0172 - mae: 0.1020\n",
            "Epoch 86: ReduceLROnPlateau reducing learning rate to 0.00025418660952709616.\n",
            "31/31 [==============================] - 29s 942ms/step - loss: 0.0172 - mae: 0.1020 - val_loss: 0.6230 - val_mae: 0.6727 - lr: 2.8243e-04\n",
            "Epoch 87/100\n",
            "31/31 [==============================] - 30s 959ms/step - loss: 0.0155 - mae: 0.0965 - val_loss: 0.1973 - val_mae: 0.2870 - lr: 2.5419e-04\n",
            "Epoch 88/100\n",
            "31/31 [==============================] - 30s 961ms/step - loss: 0.0170 - mae: 0.1009 - val_loss: 0.1957 - val_mae: 0.3284 - lr: 2.5419e-04\n",
            "Epoch 89/100\n",
            "31/31 [==============================] - 30s 977ms/step - loss: 0.0217 - mae: 0.1019 - val_loss: 0.9295 - val_mae: 0.8209 - lr: 2.5419e-04\n",
            "Epoch 90/100\n",
            "31/31 [==============================] - 31s 993ms/step - loss: 0.0298 - mae: 0.1351 - val_loss: 6.6671 - val_mae: 2.0179 - lr: 2.5419e-04\n",
            "Epoch 91/100\n",
            "31/31 [==============================] - ETA: 0s - loss: 0.0176 - mae: 0.1032\n",
            "Epoch 91: ReduceLROnPlateau reducing learning rate to 0.00022876793809700757.\n",
            "31/31 [==============================] - 30s 988ms/step - loss: 0.0176 - mae: 0.1032 - val_loss: 2.5463 - val_mae: 1.2639 - lr: 2.5419e-04\n",
            "Epoch 92/100\n",
            "31/31 [==============================] - 31s 999ms/step - loss: 0.0185 - mae: 0.1040 - val_loss: 0.6119 - val_mae: 0.6638 - lr: 2.2877e-04\n",
            "Epoch 93/100\n",
            "31/31 [==============================] - 28s 903ms/step - loss: 0.0175 - mae: 0.1048 - val_loss: 0.7345 - val_mae: 0.7384 - lr: 2.2877e-04\n",
            "Epoch 94/100\n",
            "31/31 [==============================] - 28s 890ms/step - loss: 0.0170 - mae: 0.1053 - val_loss: 0.7845 - val_mae: 0.7613 - lr: 2.2877e-04\n",
            "Epoch 95/100\n",
            "31/31 [==============================] - 30s 950ms/step - loss: 0.0148 - mae: 0.0951 - val_loss: 2.0592 - val_mae: 1.1660 - lr: 2.2877e-04\n",
            "Epoch 96/100\n",
            "31/31 [==============================] - ETA: 0s - loss: 0.0144 - mae: 0.0945\n",
            "Epoch 96: ReduceLROnPlateau reducing learning rate to 0.00020589114428730683.\n",
            "31/31 [==============================] - 31s 1s/step - loss: 0.0144 - mae: 0.0945 - val_loss: 0.6910 - val_mae: 0.7061 - lr: 2.2877e-04\n",
            "Epoch 97/100\n",
            "31/31 [==============================] - 29s 944ms/step - loss: 0.0144 - mae: 0.0928 - val_loss: 0.3099 - val_mae: 0.4358 - lr: 2.0589e-04\n",
            "Epoch 98/100\n",
            "31/31 [==============================] - 31s 993ms/step - loss: 0.0154 - mae: 0.0968 - val_loss: 0.2511 - val_mae: 0.3870 - lr: 2.0589e-04\n",
            "Epoch 99/100\n",
            "31/31 [==============================] - 30s 967ms/step - loss: 0.0154 - mae: 0.0970 - val_loss: 0.2880 - val_mae: 0.4160 - lr: 2.0589e-04\n",
            "Epoch 100/100\n",
            "31/31 [==============================] - 30s 981ms/step - loss: 0.0145 - mae: 0.0946 - val_loss: 0.4339 - val_mae: 0.5578 - lr: 2.0589e-04\n"
          ]
        }
      ],
      "source": [
        "EPOCHS=100\n",
        "BATCH_SIZE=16\n",
        "\n",
        "history=model.fit(X_train,\n",
        "                 Y_train,\n",
        "                 validation_data=(X_test,Y_test),\n",
        "                 batch_size=BATCH_SIZE,\n",
        "                 epochs=EPOCHS,\n",
        "                 callbacks=[model_checkpoint,reduce_lr]\n",
        "                 )"
      ]
    },
    {
      "cell_type": "code",
      "execution_count": 16,
      "id": "canadian-baptist",
      "metadata": {
        "execution": {
          "iopub.execute_input": "2021-06-05T05:20:36.211222Z",
          "iopub.status.busy": "2021-06-05T05:20:36.201192Z",
          "iopub.status.idle": "2021-06-05T05:20:38.320995Z",
          "shell.execute_reply": "2021-06-05T05:20:38.321844Z"
        },
        "papermill": {
          "duration": 24.498969,
          "end_time": "2021-06-05T05:20:38.322167",
          "exception": false,
          "start_time": "2021-06-05T05:20:13.823198",
          "status": "completed"
        },
        "tags": [],
        "id": "canadian-baptist",
        "outputId": "ced00f0d-e5d2-4bfc-9568-7742d63583eb",
        "colab": {
          "base_uri": "https://localhost:8080/"
        }
      },
      "outputs": [
        {
          "output_type": "execute_result",
          "data": {
            "text/plain": [
              "<tensorflow.python.checkpoint.checkpoint.CheckpointLoadStatus at 0x7eb0b71490c0>"
            ]
          },
          "metadata": {},
          "execution_count": 16
        }
      ],
      "source": [
        "model.load_weights(ckp_path)"
      ]
    },
    {
      "cell_type": "code",
      "execution_count": 36,
      "id": "split-adoption",
      "metadata": {
        "execution": {
          "iopub.execute_input": "2021-06-05T05:21:23.944619Z",
          "iopub.status.busy": "2021-06-05T05:21:23.943637Z",
          "iopub.status.idle": "2021-06-05T05:22:13.127984Z",
          "shell.execute_reply": "2021-06-05T05:22:13.127401Z"
        },
        "papermill": {
          "duration": 72.039475,
          "end_time": "2021-06-05T05:22:13.128170",
          "exception": false,
          "start_time": "2021-06-05T05:21:01.088695",
          "status": "completed"
        },
        "tags": [],
        "id": "split-adoption"
      },
      "outputs": [],
      "source": [
        "converter = tf.lite.TFLiteConverter.from_keras_model(model)\n",
        "tflite_model = converter.convert()\n",
        "\n",
        "# Save the model.\n",
        "with open('model.tflite', 'wb') as f:\n",
        "  f.write(tflite_model)"
      ]
    },
    {
      "cell_type": "code",
      "execution_count": 18,
      "id": "collect-order",
      "metadata": {
        "execution": {
          "iopub.execute_input": "2021-06-05T05:22:57.964162Z",
          "iopub.status.busy": "2021-06-05T05:22:57.962919Z",
          "iopub.status.idle": "2021-06-05T05:23:00.492233Z",
          "shell.execute_reply": "2021-06-05T05:23:00.491639Z"
        },
        "papermill": {
          "duration": 24.805693,
          "end_time": "2021-06-05T05:23:00.492420",
          "exception": false,
          "start_time": "2021-06-05T05:22:35.686727",
          "status": "completed"
        },
        "tags": [],
        "id": "collect-order",
        "colab": {
          "base_uri": "https://localhost:8080/"
        },
        "outputId": "cedc2ddd-6b1d-4a2d-8428-6c2545462120"
      },
      "outputs": [
        {
          "output_type": "stream",
          "name": "stdout",
          "text": [
            "6/6 [==============================] - 3s 147ms/step\n"
          ]
        }
      ],
      "source": [
        "prediction_val=model.predict(X_test,batch_size=BATCH_SIZE)"
      ]
    },
    {
      "cell_type": "code",
      "execution_count": 26,
      "id": "lovely-breach",
      "metadata": {
        "execution": {
          "iopub.execute_input": "2021-06-05T05:23:45.013122Z",
          "iopub.status.busy": "2021-06-05T05:23:45.012192Z",
          "iopub.status.idle": "2021-06-05T05:23:45.018987Z",
          "shell.execute_reply": "2021-06-05T05:23:45.018342Z"
        },
        "papermill": {
          "duration": 21.919941,
          "end_time": "2021-06-05T05:23:45.019144",
          "exception": false,
          "start_time": "2021-06-05T05:23:23.099203",
          "status": "completed"
        },
        "tags": [],
        "id": "lovely-breach"
      },
      "outputs": [],
      "source": [
        "prediction_val\n",
        "np.savetxt('prediction_val.csv', np.round(prediction_val).astype(int), delimiter=',', fmt='%d')"
      ]
    },
    {
      "cell_type": "code",
      "execution_count": 27,
      "id": "continuous-heating",
      "metadata": {
        "execution": {
          "iopub.execute_input": "2021-06-05T05:24:30.246046Z",
          "iopub.status.busy": "2021-06-05T05:24:30.245250Z",
          "iopub.status.idle": "2021-06-05T05:24:30.248610Z",
          "shell.execute_reply": "2021-06-05T05:24:30.249071Z"
        },
        "papermill": {
          "duration": 22.53603,
          "end_time": "2021-06-05T05:24:30.249222",
          "exception": false,
          "start_time": "2021-06-05T05:24:07.713192",
          "status": "completed"
        },
        "tags": [],
        "id": "continuous-heating"
      },
      "outputs": [],
      "source": [
        "Y_test\n",
        "np.savetxt('targets.csv', Y_test, delimiter=',', fmt='%d')"
      ]
    },
    {
      "cell_type": "code",
      "source": [
        "import matplotlib.pyplot as plt\n",
        "\n",
        "# Obtener los valores de las métricas\n",
        "loss = history.history['loss']\n",
        "val_loss = history.history['val_loss']\n",
        "mae = history.history['mae']\n",
        "val_mae = history.history['val_mae']\n",
        "epochs = range(1, EPOCHS + 1)\n",
        "\n",
        "# Crear las gráficas de pérdida\n",
        "plt.figure(figsize=(12, 5))\n",
        "\n",
        "# Pérdida de entrenamiento y validación\n",
        "plt.subplot(1, 2, 1)\n",
        "plt.plot(epochs, loss, label='Training Loss')\n",
        "plt.plot(epochs, val_loss, label='Validation Loss')\n",
        "plt.xlabel('Epochs')\n",
        "plt.ylabel('Loss')\n",
        "plt.legend()\n",
        "plt.title('Training and Validation Loss')\n",
        "\n",
        "# MAE de entrenamiento y validación\n",
        "plt.subplot(1, 2, 2)\n",
        "plt.plot(epochs, mae, label='Training MAE')\n",
        "plt.plot(epochs, val_mae, label='Validation MAE')\n",
        "plt.xlabel('Epochs')\n",
        "plt.ylabel('MAE')\n",
        "plt.legend()\n",
        "plt.title('Training and Validation MAE')\n",
        "\n",
        "plt.tight_layout()\n",
        "plt.show()"
      ],
      "metadata": {
        "colab": {
          "base_uri": "https://localhost:8080/",
          "height": 527
        },
        "id": "0MFKI7zT-Mix",
        "outputId": "4a7af7a8-aedb-4209-8e0e-179c3cc83ee1"
      },
      "id": "0MFKI7zT-Mix",
      "execution_count": 21,
      "outputs": [
        {
          "output_type": "display_data",
          "data": {
            "text/plain": [
              "<Figure size 1200x500 with 2 Axes>"
            ],
            "image/png": "[encoded data removed]"
          },
          "metadata": {}
        }
      ]
    },
    {
      "cell_type": "code",
      "source": [
        "from sklearn.metrics import confusion_matrix\n",
        "import seaborn as sns\n",
        "\n",
        "# Calcular la matriz de confusión\n",
        "conf_matrix = confusion_matrix(Y_test, np.round(prediction_val).astype(int))\n",
        "\n",
        "labels = list(subfolder_indices.keys())\n",
        "\n",
        "# Visualizar la matriz de confusión\n",
        "plt.figure(figsize=(10, 7))\n",
        "sns.heatmap(conf_matrix, annot=True, fmt='d', cmap='Blues', xticklabels=labels, yticklabels=labels)\n",
        "\n",
        "plt.xlabel('Predicted Labels')\n",
        "plt.ylabel('True Labels')\n",
        "plt.title('Confusion Matrix')\n",
        "plt.show()"
      ],
      "metadata": {
        "colab": {
          "base_uri": "https://localhost:8080/",
          "height": 634
        },
        "id": "Fb5wJfr-EHgr",
        "outputId": "0bf6ce52-b5e1-440a-80a9-726b4cd95d71"
      },
      "id": "Fb5wJfr-EHgr",
      "execution_count": 35,
      "outputs": [
        {
          "output_type": "display_data",
          "data": {
            "text/plain": [
              "<Figure size 1000x700 with 2 Axes>"
            ],
            "image/png": "[encoded data removed]"
          },
          "metadata": {}
        }
      ]
    }
  ],
  "metadata": {
    "kernelspec": {
      "display_name": "Python 3",
      "language": "python",
      "name": "python3"
    },
    "language_info": {
      "codemirror_mode": {
        "name": "ipython",
        "version": 3
      },
      "file_extension": ".py",
      "mimetype": "text/x-python",
      "name": "python",
      "nbconvert_exporter": "python",
      "pygments_lexer": "ipython3",
      "version": "3.7.10"
    },
    "papermill": {
      "default_parameters": {},
      "duration": 7460.91306,
      "end_time": "2021-06-05T05:26:24.739184",
      "environment_variables": {},
      "exception": null,
      "input_path": "__notebook__.ipynb",
      "output_path": "__notebook__.ipynb",
      "parameters": {},
      "start_time": "2021-06-05T03:22:03.826124",
      "version": "2.3.3"
    },
    "colab": {
      "provenance": []
    }
  },
  "nbformat": 4,
  "nbformat_minor": 5
}